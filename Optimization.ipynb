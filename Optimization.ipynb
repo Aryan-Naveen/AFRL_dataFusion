{
 "cells": [
  {
   "cell_type": "code",
   "execution_count": 666,
   "metadata": {},
   "outputs": [],
   "source": [
    "import numpy as np\n",
    "from scipy.optimize import minimize\n",
    "from scipy.stats import chi2\n",
    "from scipy.linalg import sqrtm\n",
    "from numpy.linalg import det\n",
    "import numpy.linalg as LA\n",
    "import matplotlib.pyplot as plt\n",
    "import math\n",
    "\n",
    "def generate_covariance(true_mu, dims):\n",
    "    S = np.tril(np.random.randn(dims, dims))\n",
    "    cov = np.dot(S, S.T)\n",
    "    while(np.linalg.det(cov) < 0.5):\n",
    "        cov = cov * 2\n",
    "    mu = np.random.multivariate_normal(true_mu, cov, 1)[0]\n",
    "\n",
    "    return mu, cov\n",
    "\n",
    "def get(dims):\n",
    "    true_mu = np.zeros((dims, ))\n",
    "\n",
    "    x_ac, C_ac = generate_covariance(true_mu, dims)\n",
    "    x_c, C_c = generate_covariance(true_mu, dims)\n",
    "    x_bc, C_bc = generate_covariance(true_mu, dims)\n",
    "    \n",
    "    C_bc = np.copy(C_ac)\n",
    "    \n",
    "    C_a = LA.inv(LA.inv(C_ac) + LA.inv(C_c))\n",
    "    C_b = LA.inv(LA.inv(C_bc) + LA.inv(C_c))\n",
    "\n",
    "    x_a = C_a @ (LA.inv(C_ac) @ x_ac + LA.inv(C_c) @ x_c)\n",
    "    x_b = C_b @ (LA.inv(C_bc) @ x_bc + LA.inv(C_c) @ x_c)\n",
    "\n",
    "    C_fus = LA.inv(LA.inv(C_a) + LA.inv(C_b) - LA.inv(C_c))\n",
    "\n",
    "    return x_a.reshape(1, dims), x_b.reshape(1, dims), C_a, C_b, C_fus\n"
   ]
  },
  {
   "cell_type": "code",
   "execution_count": 667,
   "metadata": {},
   "outputs": [],
   "source": [
    "def plot_ellipse(covariance, ax, label_t=\"\", linestyle='', alpha_val=0.25, color_def='red', center = [0, 0]):\n",
    "    if covariance.shape[0] == 2:\n",
    "        x_el = np.array([np.sin(np.linspace(0, 2*math.pi, num=63)), np.cos(np.linspace(0, 2*math.pi, num=63))])\n",
    "        C = np.linalg.cholesky(covariance)\n",
    "        y_el = np.dot(C, x_el)\n",
    "        if len(linestyle) > 0:\n",
    "            if len(label_t) > 0:\n",
    "                ax.plot(y_el[0] + center[0], y_el[1] + center[1], label=label_t, alpha=alpha_val, color=color_def, linestyle=linestyle)\n",
    "            else:\n",
    "                ax.plot(y_el[0] + center[0], y_el[1] + center[1], alpha=alpha_val, color=color_def, linestyle=linestyle)            \n",
    "        else:\n",
    "            if len(label_t) > 0:\n",
    "                ax.plot(y_el[0] + center[0], y_el[1] + center[1], label=label_t, alpha=alpha_val, color=color_def)\n",
    "            else:\n",
    "                ax.plot(y_el[0] + center[0], y_el[1] + center[1], alpha=alpha_val, color=color_def)            \n",
    "\n",
    "def mutual_covariance(cov_a, cov_b):\n",
    "    D_a, S_a = np.linalg.eigh(cov_a)\n",
    "    D_a_sqrt = sqrtm(np.diag(D_a))\n",
    "    D_a_sqrt_inv = inv(D_a_sqrt)\n",
    "    M = np.dot(np.dot(np.dot(np.dot(D_a_sqrt_inv, inv(S_a)), cov_b), S_a), D_a_sqrt_inv)    # eqn. 10 in Sijs et al.\n",
    "    D_b, S_b = np.linalg.eigh(M)\n",
    "    D_gamma = np.diag(np.clip(D_b, a_min=1.0, a_max=None))   # eqn. 11b in Sijs et al.\n",
    "    return np.dot(np.dot(np.dot(np.dot(np.dot(np.dot(S_a, D_a_sqrt), S_b), D_gamma), inv(S_b)), D_a_sqrt), inv(S_a))  # eqn. 11a in Sijs et al"
   ]
  },
  {
   "cell_type": "code",
   "execution_count": 668,
   "metadata": {},
   "outputs": [
    {
     "name": "stdout",
     "output_type": "stream",
     "text": [
      "5.991464547107979\n"
     ]
    }
   ],
   "source": [
    "x_a, x_b, C_a, C_b, C_fus = get(2)\n",
    "\n",
    "x_a = x_a.reshape(1, 2)\n",
    "x_b = x_b.reshape(1, 2)\n",
    "\n",
    "def get_critical_value(dimensions, alpha):\n",
    "    return chi2.ppf((1 - alpha), df=dimensions)\n",
    "\n",
    "eta = get_critical_value(2, 0.05)\n",
    "print(eta)\n",
    "\n",
    "def inv(mat):\n",
    "    return np.linalg.inv(mat)"
   ]
  },
  {
   "cell_type": "code",
   "execution_count": 669,
   "metadata": {},
   "outputs": [],
   "source": [
    "def objective(S):\n",
    "    return -(S[0]*S[3])\n",
    "\n",
    "def constraint1(S):\n",
    "    S = S.reshape(2, 2).T\n",
    "    A = inv(C_a) - S@S.T\n",
    "    return np.linalg.eig(A)[0][0]\n",
    "def constraint2(S):\n",
    "    S = S.reshape(2, 2).T\n",
    "    A = inv(C_a) - S@S.T\n",
    "    return np.linalg.eig(A)[0][1]\n",
    "def constraint3(S):\n",
    "    S = S.reshape(2, 2).T\n",
    "    A = inv(C_b) - S@S.T\n",
    "    return np.linalg.eig(A)[0][0]\n",
    "def constraint4(S):\n",
    "    S = S.reshape(2, 2).T\n",
    "    A = inv(C_b) - S@S.T\n",
    "    return np.linalg.eig(A)[0][1]\n",
    "    \n",
    "def psuedoinv(A):\n",
    "    A[np.where(A<=1e-5)] = 1e-5\n",
    "    \n",
    "def relu(v):\n",
    "    return np.log1p(1 + np.exp(v))\n",
    "        \n",
    "def pinv(A):\n",
    "    RELU = np.vectorize(relu)\n",
    "    tmp_eig, tmp_egv = LA.eig(A)\n",
    "    M_inv = tmp_egv @ np.diag(1/RELU(tmp_eig)) @ tmp_egv.T\n",
    "    M = tmp_egv @ np.diag(RELU(tmp_eig)) @ tmp_egv.T\n",
    "    return M, M_inv\n",
    "\n",
    "def prob_constraint(S):\n",
    "    S = S.reshape(2, 2).T\n",
    "    C_c_inv = S@S.T\n",
    "\n",
    "#     tmp = inv(C_a) - C_c_inv\n",
    "#     tmp_eig, tmp_egv = LA.eig(tmp)\n",
    "#     C_ac = tmp_egv @ np.diag(1/RELU(tmp_eig)) @ tmp_egv.T\n",
    "#     C_ac_inv = tmp_egv @ np.diag(RELU(tmp_eig)) @ tmp_egv.T\n",
    "\n",
    "    C_ac_inv, C_ac = pinv(inv(C_a) - C_c_inv)\n",
    "    C_bc_inv, C_bc = pinv(inv(C_b) - C_c_inv)\n",
    "    \n",
    "    _, C_abc_inv_inv = pinv(C_ac_inv + C_bc_inv)\n",
    "    _, C_abc_inv = pinv(C_ac + C_bc)\n",
    "    \n",
    "#     tmp = inv(C_b) - C_c_inv\n",
    "#     tmp_eig, tmp_egv = LA.eig(tmp)\n",
    "#     C_bc = tmp_egv @ np.diag(1/RELU(tmp_eig)) @ tmp_egv.T\n",
    "#     C_bc_inv = tmp_egv @ np.diag(RELU(tmp_eig)) @ tmp_egv.T\n",
    "        \n",
    "#     C_ac = inv(inv(C_a) - C_c_inv)\n",
    "#     C_bc = inv(inv(C_b) - C_c_inv)\n",
    "    x_c = (C_abc_inv_inv @ (C_ac_inv @ x_a.T + C_bc_inv @ x_b.T)).T\n",
    "    x_ac = (C_ac @ (inv(C_a) @ x_a.T - C_c_inv @ x_c.T)).T\n",
    "    x_bc =(C_bc @ (inv(C_b) @ x_b.T - C_c_inv @ x_c.T)).T\n",
    "    f = ((x_ac - x_bc) @ C_abc_inv @ (x_ac - x_bc).T)[0][0]\n",
    "#     print(f)\n",
    "    return eta - f\n",
    "\n",
    "def constraint5(S):\n",
    "    return S[2]\n",
    "\n"
   ]
  },
  {
   "cell_type": "code",
   "execution_count": 670,
   "metadata": {},
   "outputs": [],
   "source": [
    "con1 = {'type': 'ineq', 'fun': constraint1}\n",
    "con2 = {'type': 'ineq', 'fun': constraint2}\n",
    "con3 = {'type': 'ineq', 'fun': constraint3}\n",
    "con4 = {'type': 'ineq', 'fun': constraint4}\n",
    "con5 = {'type': 'ineq', 'fun': prob_constraint}\n",
    "con6 = {'type': 'eq', 'fun': constraint5}\n",
    "cons = [con1, con2, con3, con4, con5, con6]\n"
   ]
  },
  {
   "cell_type": "code",
   "execution_count": 671,
   "metadata": {},
   "outputs": [
    {
     "data": {
      "text/plain": [
       "3.343337546649882"
      ]
     },
     "execution_count": 671,
     "metadata": {},
     "output_type": "execute_result"
    }
   ],
   "source": [
    "S_0 = 0.2*(np.linalg.cholesky(inv(mutual_covariance(C_a, C_b))).T).reshape(4, )\n",
    "prob_constraint(S_0)"
   ]
  },
  {
   "cell_type": "code",
   "execution_count": 672,
   "metadata": {},
   "outputs": [
    {
     "name": "stdout",
     "output_type": "stream",
     "text": [
      "Before optimization, we have...\n",
      "objective is -0.46685179815372885\n",
      "constraint1 is  8.799515529531341\n",
      "constraint2 is  14.266642976850711\n",
      "constraint3 is  8.799515529531341\n",
      "constraint4 is  14.266642976850711\n",
      "constraint5 is  0.0\n",
      "prob_constraint is  3.343337546649882\n"
     ]
    }
   ],
   "source": [
    "print('Before optimization, we have...')\n",
    "print ('objective is',objective(S_0))\n",
    "print ('constraint1 is ',constraint1(S_0))\n",
    "print ('constraint2 is ',constraint2(S_0))\n",
    "print ('constraint3 is ',constraint3(S_0))\n",
    "print ('constraint4 is ',constraint4(S_0))\n",
    "print ('constraint5 is ',constraint5(S_0))\n",
    "print ('prob_constraint is ',prob_constraint(S_0))\n"
   ]
  },
  {
   "cell_type": "code",
   "execution_count": 673,
   "metadata": {},
   "outputs": [
    {
     "name": "stderr",
     "output_type": "stream",
     "text": [
      "/usr/local/lib/python3.6/site-packages/scipy/optimize/_hessian_update_strategy.py:186: UserWarning: delta_grad == 0.0. Check if the approximated function is linear. If the function is linear better results can be obtained by defining the Hessian as zero instead of using quasi-Newton approximations.\n",
      "  'approximations.', UserWarning)\n"
     ]
    }
   ],
   "source": [
    "sol = minimize(objective, S_0, method='trust-constr', constraints=cons)"
   ]
  },
  {
   "cell_type": "code",
   "execution_count": 674,
   "metadata": {},
   "outputs": [
    {
     "name": "stdout",
     "output_type": "stream",
     "text": [
      " barrier_parameter: 2.048000000000001e-09\n",
      " barrier_tolerance: 2.048000000000001e-09\n",
      "          cg_niter: 172\n",
      "      cg_stop_cond: 4\n",
      "            constr: [array([2.12939467e-07]), array([7.84864849]), array([2.12939467e-07]), array([7.84864849]), array([2.01627862e-07]), array([-3.03547702e-32])]\n",
      "       constr_nfev: [800, 800, 800, 800, 800, 800]\n",
      "       constr_nhev: [0, 0, 0, 0, 0, 0]\n",
      "       constr_njev: [0, 0, 0, 0, 0, 0]\n",
      "    constr_penalty: 1.0\n",
      "  constr_violation: 3.03547702395435e-32\n",
      "    execution_time: 2.0528290271759033\n",
      "               fun: -7.27499878584405\n",
      "              grad: array([-2.27828638, -0.        , -0.        , -3.1931889 ])\n",
      "               jac: [array([[-6.48586341,  0.50719446,  0.3541581 , -0.02769515]]), array([[ 0.09948552,  1.27219379, -0.35415816, -4.52887766]]), array([[-6.48586341,  0.50719446,  0.3541581 , -0.02769515]]), array([[ 0.09948552,  1.27219379, -0.35415816, -4.52887766]]), array([[ 0.28678391, -0.37677598, -2.03260845, -6.33037639]]), array([[ 0., -0.,  1.,  0.]])]\n",
      "   lagrangian_grad: array([ 8.01018914e-08,  1.02120025e-06, -2.22044605e-16, -5.71517060e-08])\n",
      "           message: '`xtol` termination condition is satisfied.'\n",
      "            method: 'tr_interior_point'\n",
      "              nfev: 800\n",
      "              nhev: 0\n",
      "               nit: 159\n",
      "             niter: 159\n",
      "              njev: 160\n",
      "        optimality: 1.021200250667098e-06\n",
      "            status: 2\n",
      "           success: True\n",
      "         tr_radius: 2.000000000000001e-09\n",
      "                 v: [array([-0.18675064]), array([-2.56819441e-08]), array([-0.18675064]), array([-2.56819442e-08]), array([-0.50278913]), array([-0.88969495])]\n",
      "                 x: array([ 3.19318890e+00, -8.89694081e-01, -3.03547702e-32,  2.27828638e+00])\n"
     ]
    }
   ],
   "source": [
    "print(sol)"
   ]
  },
  {
   "cell_type": "code",
   "execution_count": 675,
   "metadata": {},
   "outputs": [],
   "source": [
    "S = sol.x.reshape(2,2)"
   ]
  },
  {
   "cell_type": "code",
   "execution_count": 676,
   "metadata": {},
   "outputs": [
    {
     "name": "stdout",
     "output_type": "stream",
     "text": [
      "objective is -7.27499878584405\n",
      "constraint1 is  2.1293946694811439e-07\n",
      "constraint2 is  7.848648491804071\n",
      "constraint3 is  2.1293946694811439e-07\n",
      "constraint4 is  7.848648491804071\n",
      "constraint5 is  -3.03547702395435e-32\n",
      "prob_constraint is  2.016278619620948e-07\n"
     ]
    },
    {
     "data": {
      "image/png": "[encoded data removed]",
      "text/plain": [
       "<Figure size 432x288 with 1 Axes>"
      ]
     },
     "metadata": {
      "needs_background": "light"
     },
     "output_type": "display_data"
    },
    {
     "name": "stdout",
     "output_type": "stream",
     "text": [
      "[[ 3.19318890e+00 -3.03547702e-32]\n",
      " [-8.89694081e-01  2.27828638e+00]]\n"
     ]
    },
    {
     "data": {
      "text/plain": [
       "<Figure size 432x288 with 0 Axes>"
      ]
     },
     "metadata": {},
     "output_type": "display_data"
    }
   ],
   "source": [
    "S = sol.x\n",
    "S = S.reshape(2, 2).T\n",
    "\n",
    "C_c = inv(S.T) @ inv(S)\n",
    "\n",
    "print ('objective is',objective(sol.x))\n",
    "print ('constraint1 is ',constraint1(sol.x))\n",
    "print ('constraint2 is ',constraint2(sol.x))\n",
    "print ('constraint3 is ',constraint3(sol.x))\n",
    "print ('constraint4 is ',constraint4(sol.x))\n",
    "print ('constraint5 is ',constraint5(sol.x))\n",
    "print ('prob_constraint is ',prob_constraint(sol.x))\n",
    "\n",
    "ax = plt.axes()\n",
    "plot_ellipse(C_c, ax, alpha_val=1)\n",
    "plot_ellipse(C_a, ax)\n",
    "plot_ellipse(C_b, ax)\n",
    "plot_ellipse(mutual_covariance(C_a, C_b), ax, color_def='orange')\n",
    "plt.show()\n",
    "plt.cla()\n",
    "plt.clf()\n",
    "\n",
    "print(S)"
   ]
  },
  {
   "cell_type": "code",
   "execution_count": 680,
   "metadata": {},
   "outputs": [
    {
     "name": "stdout",
     "output_type": "stream",
     "text": [
      "OURS:0.004555546160947341\n",
      "EI:0.00734111302943613\n",
      "TRUE:0.003660132413016321\n"
     ]
    },
    {
     "data": {
      "image/png": "[encoded data removed]",
      "text/plain": [
       "<Figure size 432x288 with 1 Axes>"
      ]
     },
     "metadata": {
      "needs_background": "light"
     },
     "output_type": "display_data"
    }
   ],
   "source": [
    "ax = plt.axes()\n",
    "fus_PC = inv(inv(C_a) + inv(C_b) - inv(C_c))\n",
    "fus_EI = inv(inv(C_a) + inv(C_b) - inv(mutual_covariance(C_a, C_b)))\n",
    "# plot_ellipse(C_a, ax)\n",
    "# plot_ellipse(C_b, ax)\n",
    "plot_ellipse(fus_PC, ax, color_def=\"green\", alpha_val=1, label_t=\"Prob. Constrained\")\n",
    "plot_ellipse(fus_EI, ax, color_def=\"blue\", alpha_val=1, label_t=\"Ellipsoidal Constrained\")\n",
    "plot_ellipse(C_fus, ax, alpha_val=1, label_t=\"True Fusion\")\n",
    "print(\"OURS:\" + str(LA.det(fus_PC)))\n",
    "print(\"EI:\" + str(LA.det(fus_EI)))\n",
    "print(\"TRUE:\" + str(LA.det(C_fus)))\n",
    "plt.legend()\n",
    "plt.show()"
   ]
  },
  {
   "cell_type": "code",
   "execution_count": null,
   "metadata": {},
   "outputs": [],
   "source": []
  }
 ],
 "metadata": {
  "kernelspec": {
   "display_name": "Python 3",
   "language": "python",
   "name": "python3"
  },
  "language_info": {
   "codemirror_mode": {
    "name": "ipython",
    "version": 3
   },
   "file_extension": ".py",
   "mimetype": "text/x-python",
   "name": "python",
   "nbconvert_exporter": "python",
   "pygments_lexer": "ipython3",
   "version": "3.6.3"
  }
 },
 "nbformat": 4,
 "nbformat_minor": 2
}
