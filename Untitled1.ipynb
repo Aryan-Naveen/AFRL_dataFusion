{
 "cells": [
  {
   "cell_type": "code",
   "execution_count": 1,
   "metadata": {},
   "outputs": [],
   "source": [
    "import cvxpy as cp\n",
    "import numpy as np\n",
    "import warnings\n",
    "warnings.filterwarnings(\"ignore\")\n",
    "import numpy as np\n",
    "from scipy.optimize import minimize\n",
    "from scipy.stats import chi2\n",
    "from scipy.linalg import sqrtm\n",
    "from numpy.linalg import det\n",
    "import numpy.linalg as LA\n",
    "import matplotlib.pyplot as plt\n",
    "import math\n",
    "from tqdm import tqdm\n",
    "import numpy as np\n",
    "from scipy.stats import invwishart as iw        \n",
    "import matplotlib.pyplot as plt\n",
    "\n",
    "def inv(A):\n",
    "    return LA.inv(A)\n",
    "\n",
    "def mutual_covariance(cov_a, cov_b):\n",
    "    D_a, S_a = np.linalg.eigh(cov_a)\n",
    "    D_a_sqrt = sqrtm(np.diag(D_a))\n",
    "    D_a_sqrt_inv = inv(D_a_sqrt)\n",
    "    M = np.dot(np.dot(np.dot(np.dot(D_a_sqrt_inv, inv(S_a)), cov_b), S_a), D_a_sqrt_inv)    # eqn. 10 in Sijs et al.\n",
    "    D_b, S_b = np.linalg.eigh(M)\n",
    "    D_gamma = np.diag(np.clip(D_b, a_min=1.0, a_max=None))   # eqn. 11b in Sijs et al.\n",
    "    return np.dot(np.dot(np.dot(np.dot(np.dot(np.dot(S_a, D_a_sqrt), S_b), D_gamma), inv(S_b)), D_a_sqrt), inv(S_a))  # eqn. 11a in Sijs et al\n",
    "\n",
    "def generate_covariance(true_mu, dims, df):\n",
    "    S = (np.tril(iw.rvs(df, 1, size=dims**2).reshape(dims, dims)))*df\n",
    "    cov = np.dot(S, S.T)\n",
    "    while(abs(np.linalg.det(cov)) < 1.5):\n",
    "        cov = cov + 0.5*np.diag(np.diag(cov))\n",
    "    mu = np.random.multivariate_normal(true_mu, cov, 1)[0]\n",
    "\n",
    "    return mu, cov\n",
    "\n",
    "def get(dims, df):\n",
    "    true_mu = np.zeros((dims, ))\n",
    "\n",
    "    x_ac, C_ac = generate_covariance(true_mu, dims, df)\n",
    "    x_c, C_c = generate_covariance(true_mu, dims, df)\n",
    "    x_bc, C_bc = generate_covariance(true_mu, dims, df)\n",
    "\n",
    "    C_a = LA.inv(LA.inv(C_ac) + LA.inv(C_c))\n",
    "    C_b = LA.inv(LA.inv(C_bc) + LA.inv(C_c))\n",
    "\n",
    "    x_a = C_a @ (LA.inv(C_ac) @ x_ac + LA.inv(C_c) @ x_c)\n",
    "    x_b = C_b @ (LA.inv(C_bc) @ x_bc + LA.inv(C_c) @ x_c)\n",
    "\n",
    "    C_fus = LA.inv(LA.inv(C_a) + LA.inv(C_b) - LA.inv(C_c))\n",
    "\n",
    "    x_fus = C_fus @ (LA.inv(C_ac) @ x_ac + LA.inv(C_bc) @ x_bc + LA.inv(C_c) @ x_c)\n",
    "\n",
    "    return x_a.reshape(1, dims), x_b.reshape(1, dims), C_a, C_b, C_fus, x_fus\n",
    "\n",
    "def get_critical_value(dimensions, alpha):\n",
    "    return chi2.ppf((1 - alpha), df=dimensions)\n",
    "\n",
    "eta = get_critical_value(2, 0.05)\n",
    "df = 100\n",
    "x_a, x_b, C_a, C_b, C_fus, t_x_fus = get(2, df)\n",
    "x_a = x_a.reshape(1, 2)\n",
    "x_b = x_b.reshape(1, 2)"
   ]
  },
  {
   "cell_type": "code",
   "execution_count": 7,
   "metadata": {},
   "outputs": [
    {
     "name": "stdout",
     "output_type": "stream",
     "text": [
      "1.394168067146919e+50\n",
      "The optimal value is 1.9659479556365183\n",
      "A solution X is\n",
      "1.9659479556365178\n",
      "2.0106517610031736\n"
     ]
    }
   ],
   "source": [
    "C_c = cp.Variable((2,2), symmetric=True)\n",
    "C_c.value = mutual_covariance(C_a, C_b)\n",
    "\n",
    "C_ac = inv(inv(C_a) - inv(C_c.value))\n",
    "C_bc = inv(inv(C_b) - inv(C_c.value))\n",
    "xc = (LA.inv(LA.inv(C_a)+LA.inv(C_b)-2*inv(C_c.value)) @ ((C_ac@x_a.T+C_bc@x_b.T).T).T).T\n",
    "\n",
    "x_ac = (C_ac @ (inv(C_a) @ x_a.T - inv(C_c.value) @ xc.T)).T\n",
    "x_bc = (C_bc @ (inv(C_b) @ x_b.T - inv(C_c.value) @ xc.T)).T\n",
    "\n",
    "f = ((x_ac - x_bc) @ inv(C_ac+C_bc) @ (x_ac - x_bc).T)[0][0]\n",
    "print(f)\n",
    "cons = [C_c >> C_a, C_c >> C_b]\n",
    "prob = cp.Problem(cp.Minimize(cp.trace(C_c)),\n",
    "                  cons)\n",
    "prob.solve()\n",
    "\n",
    "# Print result.\n",
    "print(\"The optimal value is\", prob.value)\n",
    "print(\"A solution X is\")\n",
    "print(np.trace(C_c.value))\n",
    "\n",
    "print(np.trace(mutual_covariance(C_a, C_b)))\n",
    "\n"
   ]
  },
  {
   "cell_type": "code",
   "execution_count": 7,
   "metadata": {},
   "outputs": [
    {
     "name": "stdout",
     "output_type": "stream",
     "text": [
      "The optimal value is 2.6543515102315585\n",
      "A solution X is\n",
      "[[ 1.60805795 -0.59770492 -0.69576152]\n",
      " [-0.59770492  0.22229041  0.24689363]\n",
      " [-0.69576152  0.24689363  1.39679885]]\n"
     ]
    }
   ],
   "source": [
    "# Generate a random SDP.\n",
    "n = 3\n",
    "p = 3\n",
    "np.random.seed(1)\n",
    "C = np.random.randn(n, n)\n",
    "A = []\n",
    "b = []\n",
    "for i in range(p):\n",
    "    A.append(np.random.randn(n, n))\n",
    "    b.append(np.random.randn())\n",
    "\n",
    "# Define and solve the CVXPY problem.\n",
    "# Create a symmetric matrix variable.\n",
    "X = cp.Variable((n,n), symmetric=True)\n",
    "# The operator >> denotes matrix inequality.\n",
    "constraints = [X >> 0]\n",
    "constraints += [\n",
    "    cp.trace(A[i] @ X) == b[i] for i in range(p)\n",
    "]\n",
    "prob = cp.Problem(cp.Minimize(cp.trace(C @ X)),\n",
    "                  constraints)\n",
    "prob.solve()\n",
    "\n",
    "# Print result.\n",
    "print(\"The optimal value is\", prob.value)\n",
    "print(\"A solution X is\")\n",
    "print(X.value)"
   ]
  },
  {
   "cell_type": "code",
   "execution_count": null,
   "metadata": {},
   "outputs": [],
   "source": []
  },
  {
   "cell_type": "code",
   "execution_count": null,
   "metadata": {},
   "outputs": [],
   "source": []
  }
 ],
 "metadata": {
  "kernelspec": {
   "display_name": "Python 3",
   "language": "python",
   "name": "python3"
  },
  "language_info": {
   "codemirror_mode": {
    "name": "ipython",
    "version": 3
   },
   "file_extension": ".py",
   "mimetype": "text/x-python",
   "name": "python",
   "nbconvert_exporter": "python",
   "pygments_lexer": "ipython3",
   "version": "3.6.3"
  }
 },
 "nbformat": 4,
 "nbformat_minor": 2
}
