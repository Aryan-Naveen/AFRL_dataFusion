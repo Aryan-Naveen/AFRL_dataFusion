{
 "cells": [
  {
   "cell_type": "code",
   "execution_count": 5,
   "metadata": {},
   "outputs": [],
   "source": [
    "import numpy as np\n",
    "from scipy.optimize import minimize\n",
    "from scipy.stats import chi2\n",
    "from scipy.linalg import sqrtm\n",
    "from numpy.linalg import det\n",
    "import numpy.linalg as LA\n",
    "import matplotlib.pyplot as plt\n",
    "import math\n",
    "from scipy.stats import multivariate_normal\n",
    "from scipy.stats import invwishart as iw\n",
    "\n",
    "def generate_covariance(true_mu, dims, df):\n",
    "    S = np.tril(iw.rvs(df, 1, size=dims**2).reshape(dims, dims))\n",
    "    cov = np.dot(S, S.T)\n",
    "    while(np.linalg.det(cov) < 1):\n",
    "        cov = cov * 2\n",
    "    mu = np.random.multivariate_normal(true_mu, cov, 1)[0]\n",
    "\n",
    "    return mu, cov\n",
    "\n",
    "def oneDvisualize(x, C, ax, label, m=1, linestyle = ''):\n",
    "    print(x)\n",
    "    print(C)\n",
    "    b = np.linspace(x - m*C, x+m*C, 1024)\n",
    "    p = multivariate_normal.pdf(b, mean=x, cov=C)\n",
    "    if len(linestyle) == 0:\n",
    "        ax.plot(b, p, label=label)\n",
    "    else:\n",
    "        ax.plot(b, p, label=label, linestyle=linestyle)        \n",
    "\n",
    "def get_predef():\n",
    "    x_a = np.array([[0]])\n",
    "    x_b = np.array([[0]])\n",
    "    C_a = np.array([[1]])\n",
    "    C_b = np.array([[1]])\n",
    "    C_fus = np.array([[1]])\n",
    "    return x_a, x_b, C_a, C_b, C_fus\n",
    "    \n",
    "def get(dims, df):\n",
    "    true_mu = np.zeros((dims, ))\n",
    "\n",
    "    x_ac, C_ac = generate_covariance(true_mu, dims, df)\n",
    "    x_c, C_c = generate_covariance(true_mu, dims, df)\n",
    "    x_bc, C_bc = generate_covariance(true_mu, dims, df)\n",
    "    \n",
    "    C_bc = np.copy(C_ac)\n",
    "    \n",
    "    C_a = LA.inv(LA.inv(C_ac) + LA.inv(C_c))\n",
    "    C_b = LA.inv(LA.inv(C_bc) + LA.inv(C_c))\n",
    "\n",
    "    x_a = C_a @ (LA.inv(C_ac) @ x_ac + LA.inv(C_c) @ x_c)\n",
    "    x_b = C_b @ (LA.inv(C_bc) @ x_bc + LA.inv(C_c) @ x_c)\n",
    "\n",
    "    C_fus = LA.inv(LA.inv(C_a) + LA.inv(C_b) - LA.inv(C_c))\n",
    "\n",
    "    return x_a.reshape(1, dims), x_b.reshape(1, dims), C_a, C_b, C_fus\n"
   ]
  },
  {
   "cell_type": "code",
   "execution_count": 6,
   "metadata": {},
   "outputs": [],
   "source": [
    "def plot_ellipse(covariance, ax, label_t=\"\", linestyle='', alpha_val=0.25, color_def='red', center = [0, 0]):\n",
    "    if covariance.shape[0] == 2:\n",
    "        x_el = np.array([np.sin(np.linspace(0, 2*math.pi, num=63)), np.cos(np.linspace(0, 2*math.pi, num=63))])\n",
    "        C = np.linalg.cholesky(covariance)\n",
    "        y_el = np.dot(C, x_el)\n",
    "        if len(linestyle) > 0:\n",
    "            if len(label_t) > 0:\n",
    "                ax.plot(y_el[0] + center[0], y_el[1] + center[1], label=label_t, alpha=alpha_val, color=color_def, linestyle=linestyle)\n",
    "            else:\n",
    "                ax.plot(y_el[0] + center[0], y_el[1] + center[1], alpha=alpha_val, color=color_def, linestyle=linestyle)            \n",
    "        else:\n",
    "            if len(label_t) > 0:\n",
    "                ax.plot(y_el[0] + center[0], y_el[1] + center[1], label=label_t, alpha=alpha_val, color=color_def)\n",
    "            else:\n",
    "                ax.plot(y_el[0] + center[0], y_el[1] + center[1], alpha=alpha_val, color=color_def)            \n",
    "\n",
    "def mutual_covariance(cov_a, cov_b):\n",
    "    D_a, S_a = np.linalg.eigh(cov_a)\n",
    "    D_a_sqrt = sqrtm(np.diag(D_a))\n",
    "    D_a_sqrt_inv = inv(D_a_sqrt)\n",
    "    M = np.dot(np.dot(np.dot(np.dot(D_a_sqrt_inv, inv(S_a)), cov_b), S_a), D_a_sqrt_inv)    # eqn. 10 in Sijs et al.\n",
    "    D_b, S_b = np.linalg.eigh(M)\n",
    "    D_gamma = np.diag(np.clip(D_b, a_min=1.0, a_max=None))   # eqn. 11b in Sijs et al.\n",
    "    return np.dot(np.dot(np.dot(np.dot(np.dot(np.dot(S_a, D_a_sqrt), S_b), D_gamma), inv(S_b)), D_a_sqrt), inv(S_a))  # eqn. 11a in Sijs et al"
   ]
  },
  {
   "cell_type": "code",
   "execution_count": 7,
   "metadata": {},
   "outputs": [],
   "source": [
    "dims = 2\n",
    "if dims == 2:\n",
    "    x_a, x_b, C_a, C_b, C_fus = get(2, 6)\n",
    "else:\n",
    "    x_a, x_b, C_a, C_b, C_fus = get_predef()\n",
    "    \n",
    "x_a = x_a.reshape(1, dims)\n",
    "x_b = x_b.reshape(1, dims)\n",
    "\n",
    "def get_critical_value(dimensions, alpha):\n",
    "    return chi2.ppf((1 - alpha), df=dimensions)\n",
    "\n",
    "\n",
    "\n",
    "def inv(mat):\n",
    "    if dims > 1:\n",
    "        return np.linalg.inv(mat)\n",
    "    else:\n",
    "        return 1/mat\n"
   ]
  },
  {
   "cell_type": "code",
   "execution_count": 8,
   "metadata": {},
   "outputs": [
    {
     "name": "stdout",
     "output_type": "stream",
     "text": [
      "5.991464547107979\n"
     ]
    }
   ],
   "source": [
    "eta = get_critical_value(dims, 0.05)\n",
    "print(eta)\n",
    "\n",
    "def objective2(S):\n",
    "    return -(S[0]*S[3])\n",
    "\n",
    "def objective1(S):\n",
    "    return -S[0]\n",
    "\n",
    "def constraint1(S):\n",
    "    S = S.reshape(dims, dims).T\n",
    "    A = inv(C_a) - S@S.T\n",
    "    return np.linalg.eig(A)[0][0]\n",
    "def constraint2(S):\n",
    "    S = S.reshape(dims, dims).T\n",
    "    A = inv(C_a) - S@S.T\n",
    "    return np.linalg.eig(A)[0][1]\n",
    "def constraint3(S):\n",
    "    S = S.reshape(dims, dims).T\n",
    "    A = inv(C_b) - S@S.T\n",
    "    return np.linalg.eig(A)[0][0]\n",
    "def constraint4(S):\n",
    "    S = S.reshape(dims, dims).T\n",
    "    A = inv(C_b) - S@S.T\n",
    "    return np.linalg.eig(A)[0][1]\n",
    "    \n",
    "def psuedoinv(A):\n",
    "    A[np.where(A<=1e-5)] = 1e-5\n",
    "    \n",
    "def relu(v):\n",
    "    return np.log1p(1 + np.exp(v))\n",
    "        \n",
    "def pinv(A):\n",
    "    RELU = np.vectorize(relu)\n",
    "    tmp_eig, tmp_egv = LA.eig(A)\n",
    "    M_inv = tmp_egv @ np.diag(1/RELU(tmp_eig)) @ tmp_egv.T\n",
    "    M = tmp_egv @ np.diag(RELU(tmp_eig)) @ tmp_egv.T\n",
    "    return M, M_inv\n",
    "\n",
    "def prob_constraint(S):\n",
    "    S = S.reshape(dims, dims).T\n",
    "    C_c_inv = S@S.T\n",
    "\n",
    "#     tmp = inv(C_a) - C_c_inv\n",
    "#     tmp_eig, tmp_egv = LA.eig(tmp)\n",
    "#     C_ac = tmp_egv @ np.diag(1/RELU(tmp_eig)) @ tmp_egv.T\n",
    "#     C_ac_inv = tmp_egv @ np.diag(RELU(tmp_eig)) @ tmp_egv.T\n",
    "    if dims == 2:\n",
    "        C_ac_inv, C_ac = pinv(inv(C_a) - C_c_inv)\n",
    "        C_bc_inv, C_bc = pinv(inv(C_b) - C_c_inv)\n",
    "    \n",
    "        _, C_abc_inv_inv = pinv(C_ac_inv + C_bc_inv)\n",
    "        _, C_abc_inv = pinv(C_ac + C_bc)\n",
    "    elif dims == 1:\n",
    "        C_ac = inv(inv(C_a) - C_c_inv)\n",
    "        C_ac_inv = inv(C_ac)\n",
    "        C_bc = inv(inv(C_b) - C_c_inv)\n",
    "        C_bc_inv = inv(C_bc)\n",
    "        \n",
    "        C_abc_inv_inv = inv(C_ac_inv + C_bc_inv)\n",
    "        C_abc_inv = inv(C_ac + C_bc)\n",
    "\n",
    "    \n",
    "#     tmp = inv(C_b) - C_c_inv\n",
    "#     tmp_eig, tmp_egv = LA.eig(tmp)\n",
    "#     C_bc = tmp_egv @ np.diag(1/RELU(tmp_eig)) @ tmp_egv.T\n",
    "#     C_bc_inv = tmp_egv @ np.diag(RELU(tmp_eig)) @ tmp_egv.T\n",
    "        \n",
    "#     C_ac = inv(inv(C_a) - C_c_inv)\n",
    "#     C_bc = inv(inv(C_b) - C_c_inv)\n",
    "    x_c = (C_abc_inv_inv @ (C_ac_inv @ x_a.T + C_bc_inv @ x_b.T)).T\n",
    "    x_ac = (C_ac @ (inv(C_a) @ x_a.T - C_c_inv @ x_c.T)).T\n",
    "    x_bc =(C_bc @ (inv(C_b) @ x_b.T - C_c_inv @ x_c.T)).T\n",
    "    f = ((x_ac - x_bc) @ C_abc_inv @ (x_ac - x_bc).T)[0][0]\n",
    "#     print(f)\n",
    "    return eta - f\n",
    "\n",
    "def constraint5(S):\n",
    "    return S[2]\n",
    "\n"
   ]
  },
  {
   "cell_type": "code",
   "execution_count": 9,
   "metadata": {},
   "outputs": [],
   "source": [
    "if dims == 2:\n",
    "    con1 = {'type': 'ineq', 'fun': constraint1}\n",
    "    con2 = {'type': 'ineq', 'fun': constraint2}\n",
    "    con3 = {'type': 'ineq', 'fun': constraint3}\n",
    "    con4 = {'type': 'ineq', 'fun': constraint4}\n",
    "    con5 = {'type': 'eq', 'fun': prob_constraint}\n",
    "    con6 = {'type': 'eq', 'fun': constraint5}\n",
    "    cons = [con1, con2, con3, con4, con5, con6]\n",
    "if dims == 1:\n",
    "    con1 = {'type': 'ineq', 'fun': constraint1}\n",
    "    con3 = {'type': 'ineq', 'fun': constraint3}\n",
    "    con5 = {'type': 'ineq', 'fun': prob_constraint}\n",
    "    cons = [con1, con3, con5]"
   ]
  },
  {
   "cell_type": "code",
   "execution_count": 10,
   "metadata": {},
   "outputs": [
    {
     "data": {
      "text/plain": [
       "0.2475194094451183"
      ]
     },
     "execution_count": 10,
     "metadata": {},
     "output_type": "execute_result"
    }
   ],
   "source": [
    "if dims == 1:\n",
    "    S_0 = 0.99*(np.linalg.cholesky(inv(mutual_covariance(C_a, C_b))).T).reshape(dims**2, )\n",
    "else:\n",
    "    S_0 = (np.linalg.cholesky(inv(mutual_covariance(C_a, C_b))).T).reshape(dims**2, )\n",
    "    \n",
    "prob_constraint(S_0)"
   ]
  },
  {
   "cell_type": "code",
   "execution_count": 11,
   "metadata": {},
   "outputs": [
    {
     "name": "stdout",
     "output_type": "stream",
     "text": [
      "Before optimization, we have...\n",
      "objective is -2.6409670281173443\n",
      "constraint1 is  -3.649076847812928e-15\n",
      "constraint2 is  5.40452378862489e-16\n",
      "constraint3 is  -3.649076847812928e-15\n",
      "constraint4 is  5.40452378862489e-16\n",
      "constraint5 is  0.0\n",
      "prob_constraint is  0.2475194094451183\n"
     ]
    }
   ],
   "source": [
    "if dims == 2:\n",
    "    print('Before optimization, we have...')\n",
    "    print ('objective is',objective2(S_0))\n",
    "    print ('constraint1 is ',constraint1(S_0))\n",
    "    print ('constraint2 is ',constraint2(S_0))\n",
    "    print ('constraint3 is ',constraint3(S_0))\n",
    "    print ('constraint4 is ',constraint4(S_0))\n",
    "    print ('constraint5 is ',constraint5(S_0))\n",
    "    print ('prob_constraint is ',prob_constraint(S_0))\n"
   ]
  },
  {
   "cell_type": "code",
   "execution_count": 12,
   "metadata": {},
   "outputs": [
    {
     "name": "stderr",
     "output_type": "stream",
     "text": [
      "/usr/local/lib/python3.6/site-packages/scipy/optimize/_hessian_update_strategy.py:186: UserWarning: delta_grad == 0.0. Check if the approximated function is linear. If the function is linear better results can be obtained by defining the Hessian as zero instead of using quasi-Newton approximations.\n",
      "  'approximations.', UserWarning)\n"
     ]
    }
   ],
   "source": [
    "if dims == 2:\n",
    "    sol = minimize(objective2, S_0, method='trust-constr', constraints=cons)\n",
    "if dims == 1:\n",
    "    sol = minimize(objective1, S_0, method='SLSQP', constraints=cons)\n",
    "# sol = minimize(objective, S_0, method='SLSQP', constraints=cons)"
   ]
  },
  {
   "cell_type": "code",
   "execution_count": 13,
   "metadata": {
    "scrolled": true
   },
   "outputs": [
    {
     "name": "stdout",
     "output_type": "stream",
     "text": [
      " barrier_parameter: 0.1\n",
      " barrier_tolerance: 0.1\n",
      "          cg_niter: 1000\n",
      "      cg_stop_cond: 2\n",
      "            constr: [array([-0.06508768]), array([0.31699769]), array([-0.06508768]), array([0.31699769]), array([0.05758492]), array([5.75373048e-06])]\n",
      "       constr_nfev: [5000, 5000, 5000, 5000, 5000, 5000]\n",
      "       constr_nhev: [0, 0, 0, 0, 0, 0]\n",
      "       constr_njev: [0, 0, 0, 0, 0, 0]\n",
      "    constr_penalty: 569.6488899000698\n",
      "  constr_violation: 0.06508768298707618\n",
      "    execution_time: 7.217272043228149\n",
      "               fun: -1.832806049815352\n",
      "              grad: array([-0.55627701, -0.        ,  0.        , -3.29477224])\n",
      "               jac: [array([[-6.68001497,  1.23124023,  0.19831381, -0.03655259]]), array([[ 0.09047045,  0.49084127, -0.19832526, -1.07600144]]), array([[-6.68001497,  1.23124023,  0.19831381, -0.03655259]]), array([[ 0.09047045,  0.49084127, -0.19832526, -1.07600144]]), array([[-15.67455333,   2.89034134,   0.46553302,  -0.08584321]]), array([[ 0., -0.,  1.,  0.]])]\n",
      "   lagrangian_grad: array([-2.12111744e-01, -1.16922665e+00,  3.27515792e-15, -6.37293239e-01])\n",
      "           message: 'The maximum number of function evaluations is exceeded.'\n",
      "            method: 'tr_interior_point'\n",
      "              nfev: 5000\n",
      "              nhev: 0\n",
      "               nit: 1000\n",
      "             niter: 1000\n",
      "              njev: 1000\n",
      "        optimality: 1.1692266547929648\n",
      "            status: 0\n",
      "           success: False\n",
      "         tr_radius: 0.0003744205337712153\n",
      "                 v: [array([-140.58487955]), array([-1.23751207]), array([-140.58487955]), array([-1.23751207]), array([119.78970499]), array([-0.4970755])]\n",
      "                 x: array([ 3.29477224e+00, -8.61040742e-01,  5.75373048e-06,  5.56277010e-01])\n"
     ]
    }
   ],
   "source": [
    "print(sol)"
   ]
  },
  {
   "cell_type": "code",
   "execution_count": 14,
   "metadata": {},
   "outputs": [
    {
     "name": "stdout",
     "output_type": "stream",
     "text": [
      "0.05758491927646148\n"
     ]
    }
   ],
   "source": [
    "S = sol.x.reshape(dims,dims)\n",
    "print(prob_constraint(sol.x))\n",
    "def get_x_c(C_c):\n",
    "    def mutual_mean(mean_a, cov_a, mean_b, cov_b, cov_m):\n",
    "        dims = mean_a.shape[0]\n",
    "        cov_m_inv = inv(cov_m)\n",
    "        cov_a_inv = inv(cov_a)\n",
    "        cov_b_inv = inv(cov_b)\n",
    "        H = cov_a_inv + cov_b_inv - np.multiply(2, cov_m_inv)\n",
    "        if det(H) == 0:\n",
    "            eta = 0\n",
    "        else:\n",
    "            eig_H, _ = np.linalg.eigh(H)\n",
    "            smallest_nonzero_ev = min(list(filter(lambda x: x != 0, eig_H)))\n",
    "            eta = 0.0001 * smallest_nonzero_ev\n",
    "        eta_I = np.multiply(eta, np.identity(dims))\n",
    "        first_term = inv(cov_a_inv + cov_b_inv - np.multiply(2, cov_m_inv) + np.multiply(2, eta_I))\n",
    "        second_term = np.dot(cov_b_inv - cov_m_inv + eta_I, mean_a) + np.dot(cov_a_inv - cov_m_inv + eta_I, mean_b)\n",
    "        return np.dot(first_term, second_term)\n",
    "    return mutual_mean(x_a, C_a, x_b, C_b, C_c)\n",
    "\n",
    "def get_C_ac_x_ac(x_c, C_c):\n",
    "    C_ac = inv(inv(C_a) - inv(C_c))\n",
    "    x_ac = C_ac @ (inv(C_a) @ x_a - inv(C_c)@x_c)\n",
    "    return x_ac, C_ac\n",
    "\n",
    "def get_C_bc_x_bc(x_c, C_c):\n",
    "    C_bc = inv(inv(C_b) - inv(C_c))\n",
    "    x_bc = C_bc @ (inv(C_b) @ x_b - inv(C_c)@x_c)\n",
    "    return x_bc, C_bc"
   ]
  },
  {
   "cell_type": "code",
   "execution_count": 15,
   "metadata": {},
   "outputs": [
    {
     "name": "stdout",
     "output_type": "stream",
     "text": [
      "[[0.31282343 0.84452642]\n",
      " [0.84452642 3.23158385]]\n"
     ]
    }
   ],
   "source": [
    "S = sol.x\n",
    "S = S.reshape(dims, dims).T\n",
    "\n",
    "C_c_PC = inv(S.T) @ inv(S)\n",
    "C_c_EI = mutual_covariance(C_a, C_b) + 0.01\n",
    "print(C_c_PC)\n",
    "\n",
    "\n",
    "\n",
    "if dims == 1:\n",
    "#     plt.cla()\n",
    "#     plt.clf()\n",
    "#     ax = plt.axes()\n",
    "#     x_c_PC = get_x_c(C_c_PC)\n",
    "#     x_ac, C_ac = get_C_ac_x_ac(x_c_PC, C_c_PC)\n",
    "#     x_bc, C_bc = get_C_bc_x_bc(x_c_PC, C_c_PC)\n",
    "#     oneDvisualize(x_c_PC[0][0], C_c_PC[0][0], ax, \"Common Distribution\")\n",
    "#     oneDvisualize(x_ac[0][0], C_ac[0][0], ax, \"Independent A Distribution\")\n",
    "#     oneDvisualize(x_bc[0][0], C_bc[0][0], ax, \"Independent B Distribution\")\n",
    "\n",
    "#     ax.legend()\n",
    "#     plt.show()\n",
    "    \n",
    "    x_c_EI = get_x_c(C_c_EI)\n",
    "    plt.cla()\n",
    "    plt.clf()\n",
    "    ax = plt.axes()\n",
    "    x_ac, C_ac = get_C_ac_x_ac(x_c_EI, C_c_EI)\n",
    "    x_bc, C_bc = get_C_bc_x_bc(x_c_EI, C_c_EI)\n",
    "    oneDvisualize(x_c_EI[0][0], C_c_EI[0][0], ax, \"Common Distribution\", m=100)\n",
    "    oneDvisualize(x_ac[0][0], C_ac[0][0], ax, \"Independent A Distribution\", linestyle='-')\n",
    "    oneDvisualize(x_bc[0][0], C_bc[0][0], ax, \"Independent B Distribution\", linestyle=':')\n",
    "    ax.legend()\n",
    "    plt.show()\n",
    "    \n"
   ]
  },
  {
   "cell_type": "code",
   "execution_count": 16,
   "metadata": {},
   "outputs": [
    {
     "name": "stdout",
     "output_type": "stream",
     "text": [
      "[[0.1943134  0.39697999]\n",
      " [0.39697999 1.54888093]]\n",
      "[[0.1943134  0.39697999]\n",
      " [0.39697999 1.54888093]]\n",
      "objective is -1.832806049815352\n",
      "constraint1 is  -0.06508768298707618\n",
      "constraint2 is  0.3169976906606145\n",
      "constraint3 is  -0.06508768298707618\n",
      "constraint4 is  0.3169976906606145\n",
      "constraint5 is  5.753730479524389e-06\n",
      "prob_constraint is  0.05758491927646148\n"
     ]
    },
    {
     "data": {
      "image/png": "[encoded data removed]",
      "text/plain": [
       "<Figure size 432x288 with 1 Axes>"
      ]
     },
     "metadata": {
      "needs_background": "light"
     },
     "output_type": "display_data"
    },
    {
     "name": "stdout",
     "output_type": "stream",
     "text": [
      "[[ 3.29477224e+00  5.75373048e-06]\n",
      " [-8.61040742e-01  5.56277010e-01]]\n"
     ]
    },
    {
     "data": {
      "text/plain": [
       "<Figure size 432x288 with 0 Axes>"
      ]
     },
     "metadata": {},
     "output_type": "display_data"
    }
   ],
   "source": [
    "print_debug = True\n",
    "print(C_a)\n",
    "print(C_b)\n",
    "if print_debug:\n",
    "    print ('objective is',objective2(sol.x))\n",
    "    print ('constraint1 is ',constraint1(sol.x))\n",
    "    print ('constraint2 is ',constraint2(sol.x))\n",
    "    print ('constraint3 is ',constraint3(sol.x))\n",
    "    print ('constraint4 is ',constraint4(sol.x))\n",
    "    print ('constraint5 is ',constraint5(sol.x))\n",
    "    print ('prob_constraint is ',prob_constraint(sol.x))\n",
    "\n",
    "    ax = plt.axes()\n",
    "    plot_ellipse(C_c_PC, ax, alpha_val=1, linestyle='dashed', label_t=\"PC Common\")\n",
    "\n",
    "    plot_ellipse(mutual_covariance(C_a, C_b), ax, alpha_val=1, color_def='orange', linestyle='dashed', label_t=\"EI Common\")\n",
    "    ax.legend()\n",
    "    plt.show()\n",
    "    plt.cla()\n",
    "    plt.clf()\n",
    "\n",
    "    print(S)"
   ]
  },
  {
   "cell_type": "code",
   "execution_count": 17,
   "metadata": {},
   "outputs": [
    {
     "name": "stdout",
     "output_type": "stream",
     "text": [
      "OURS:0.09479614459411445\n",
      "EI:0.14337520162832035\n",
      "TRUE:0.06779008873499222\n"
     ]
    },
    {
     "data": {
      "image/png": "[encoded data removed]",
      "text/plain": [
       "<Figure size 432x288 with 1 Axes>"
      ]
     },
     "metadata": {
      "needs_background": "light"
     },
     "output_type": "display_data"
    }
   ],
   "source": [
    "ax = plt.axes()\n",
    "fus_PC = inv(inv(C_a) + inv(C_b) - inv(C_c_PC))\n",
    "fus_EI = inv(inv(C_a) + inv(C_b) - inv(mutual_covariance(C_a, C_b)))\n",
    "# plot_ellipse(C_a, ax)\n",
    "# plot_ellipse(C_b, ax)\n",
    "plot_ellipse(fus_PC, ax, color_def=\"green\", alpha_val=1, label_t=\"PC Fusion\")\n",
    "plot_ellipse(fus_EI, ax, color_def=\"blue\", alpha_val=1, label_t=\"EI Fusion\")\n",
    "plot_ellipse(C_fus, ax, alpha_val=1, label_t=\"True Fusion\")\n",
    "print(\"OURS:\" + str(LA.det(fus_PC)))\n",
    "print(\"EI:\" + str(LA.det(fus_EI)))\n",
    "print(\"TRUE:\" + str(LA.det(C_fus)))\n",
    "plt.legend()\n",
    "plt.show()"
   ]
  },
  {
   "cell_type": "code",
   "execution_count": null,
   "metadata": {},
   "outputs": [],
   "source": []
  }
 ],
 "metadata": {
  "kernelspec": {
   "display_name": "Python 3",
   "language": "python",
   "name": "python3"
  },
  "language_info": {
   "codemirror_mode": {
    "name": "ipython",
    "version": 3
   },
   "file_extension": ".py",
   "mimetype": "text/x-python",
   "name": "python",
   "nbconvert_exporter": "python",
   "pygments_lexer": "ipython3",
   "version": "3.6.3"
  }
 },
 "nbformat": 4,
 "nbformat_minor": 2
}
