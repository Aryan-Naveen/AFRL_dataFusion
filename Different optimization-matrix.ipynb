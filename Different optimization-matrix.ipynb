{
 "cells": [
  {
   "cell_type": "code",
   "execution_count": 41,
   "metadata": {},
   "outputs": [],
   "source": [
    "import warnings\n",
    "warnings.filterwarnings(\"ignore\")\n",
    "import numpy as np\n",
    "from scipy.optimize import minimize\n",
    "from scipy.stats import chi2\n",
    "from scipy.linalg import sqrtm\n",
    "from numpy.linalg import det\n",
    "import numpy.linalg as LA\n",
    "import matplotlib.pyplot as plt\n",
    "import math\n",
    "from tqdm import tqdm\n",
    "import numpy as np\n",
    "from scipy.stats import invwishart as iw        \n",
    "import matplotlib.pyplot as plt\n",
    "\n",
    "def plot_ellipse(covariance, ax, label_t=\"\", linestyle='', alpha_val=0.25, color_def='red', center = [0, 0]):\n",
    "    if covariance.shape[0] == 2:\n",
    "        x_el = np.array([np.sin(np.linspace(0, 2*math.pi, num=63)), np.cos(np.linspace(0, 2*math.pi, num=63))])\n",
    "        C = np.linalg.cholesky(covariance)\n",
    "        y_el = np.dot(C, x_el)\n",
    "        if len(linestyle) > 0:\n",
    "            if len(label_t) > 0:\n",
    "                ax.plot(y_el[0] + center[0], y_el[1] + center[1], label=label_t, alpha=alpha_val, color=color_def, linestyle=linestyle)\n",
    "            else:\n",
    "                ax.plot(y_el[0] + center[0], y_el[1] + center[1], alpha=alpha_val, color=color_def, linestyle=linestyle)            \n",
    "        else:\n",
    "            if len(label_t) > 0:\n",
    "                ax.plot(y_el[0] + center[0], y_el[1] + center[1], label=label_t, alpha=alpha_val, color=color_def)\n",
    "            else:\n",
    "                ax.plot(y_el[0] + center[0], y_el[1] + center[1], alpha=alpha_val, color=color_def) \n",
    "                "
   ]
  },
  {
   "cell_type": "code",
   "execution_count": 42,
   "metadata": {},
   "outputs": [],
   "source": [
    "def inv(A):\n",
    "    return LA.inv(A)\n",
    "\n",
    "def relu(v):\n",
    "    threshold = 1E-5\n",
    "    if v < threshold:\n",
    "        return np.log1p(1 + np.exp(v))* threshold /np.log1p(1+np.exp(threshold))\n",
    "    else:\n",
    "        return v\n",
    "\n",
    "\n",
    "\n",
    "def pinv(A):\n",
    "    RELU = np.vectorize(relu)\n",
    "    tmp_eig, tmp_egv = LA.eig(A)\n",
    "    M_inv = tmp_egv @ np.diag(1/RELU(tmp_eig)) @ tmp_egv.T\n",
    "    M = tmp_egv @ np.diag(RELU(tmp_eig)) @ tmp_egv.T\n",
    "    return M_inv\n",
    "\n",
    "def generate_covariance(true_mu, dims, df):\n",
    "    S = (np.tril(iw.rvs(df, 1, size=dims**2).reshape(dims, dims)))*df\n",
    "    cov = np.dot(S, S.T)\n",
    "    while(abs(np.linalg.det(cov)) < 1.5):\n",
    "        cov = cov + 0.5*np.diag(np.diag(cov))\n",
    "    mu = np.random.multivariate_normal(true_mu, cov, 1)[0]\n",
    "\n",
    "    return mu, cov\n",
    "\n",
    "def mutual_covariance(cov_a, cov_b):\n",
    "    D_a, S_a = np.linalg.eigh(cov_a)\n",
    "    D_a_sqrt = sqrtm(np.diag(D_a))\n",
    "    D_a_sqrt_inv = inv(D_a_sqrt)\n",
    "    M = np.dot(np.dot(np.dot(np.dot(D_a_sqrt_inv, inv(S_a)), cov_b), S_a), D_a_sqrt_inv)    # eqn. 10 in Sijs et al.\n",
    "    D_b, S_b = np.linalg.eigh(M)\n",
    "    D_gamma = np.diag(np.clip(D_b, a_min=1.0, a_max=None))   # eqn. 11b in Sijs et al.\n",
    "    return np.dot(np.dot(np.dot(np.dot(np.dot(np.dot(S_a, D_a_sqrt), S_b), D_gamma), inv(S_b)), D_a_sqrt), inv(S_a))  # eqn. 11a in Sijs et al\n",
    "\n",
    "def get(dims, df):\n",
    "    true_mu = np.zeros((dims, ))\n",
    "\n",
    "    x_ac, C_ac = generate_covariance(true_mu, dims, df)\n",
    "    x_c, C_c = generate_covariance(true_mu, dims, df)\n",
    "    x_bc, C_bc = generate_covariance(true_mu, dims, df)\n",
    "\n",
    "    C_a = LA.inv(LA.inv(C_ac) + LA.inv(C_c))\n",
    "    C_b = LA.inv(LA.inv(C_bc) + LA.inv(C_c))\n",
    "\n",
    "    x_a = C_a @ (LA.inv(C_ac) @ x_ac + LA.inv(C_c) @ x_c)\n",
    "    x_b = C_b @ (LA.inv(C_bc) @ x_bc + LA.inv(C_c) @ x_c)\n",
    "\n",
    "    C_fus = LA.inv(LA.inv(C_a) + LA.inv(C_b) - LA.inv(C_c))\n",
    "\n",
    "    x_fus = C_fus @ (LA.inv(C_ac) @ x_ac + LA.inv(C_bc) @ x_bc + LA.inv(C_c) @ x_c)\n",
    "\n",
    "    return x_a.reshape(1, dims), x_b.reshape(1, dims), C_a, C_b, C_fus, x_fus\n",
    "\n",
    "def get_critical_value(dimensions, alpha):\n",
    "    return chi2.ppf((1 - alpha), df=dimensions)\n",
    "\n",
    "eta = get_critical_value(2, 0.05)"
   ]
  },
  {
   "cell_type": "code",
   "execution_count": 43,
   "metadata": {},
   "outputs": [
    {
     "name": "stdout",
     "output_type": "stream",
     "text": [
      "[[0.78564812 0.66244376]\n",
      " [0.66244376 1.20902304]]\n"
     ]
    }
   ],
   "source": [
    "df = 100\n",
    "x_a, x_b, C_a, C_b, C_fus, t_x_fus = get(2, df)\n",
    "print(C_a)\n",
    "x_a = x_a.reshape(1, 2)\n",
    "x_b = x_b.reshape(1, 2)\n",
    "S_0 = np.array([0, 0, 0])"
   ]
  },
  {
   "cell_type": "code",
   "execution_count": 44,
   "metadata": {},
   "outputs": [],
   "source": [
    "class Constraints():\n",
    "    def __init__(self, eta):\n",
    "        self.e = eta\n",
    "    \n",
    "    def update_eta(self, new_eta):\n",
    "        self.e=new_eta\n",
    "    \n",
    "    def objective(self, S):\n",
    "        G = np.zeros((2, 2))\n",
    "        G[np.tril_indices(2)] = S\n",
    "        return np.trace(G @ G.T)\n",
    "\n",
    "    def constraint1(self, S):\n",
    "        G = np.zeros((2, 2))\n",
    "        G[np.tril_indices(2)] = S\n",
    "        A = G@G.T - 1e-10*np.identity(2)\n",
    "        return np.linalg.eigh(A)[0][0]\n",
    "\n",
    "    def constraint2(self, S):        \n",
    "        G = np.zeros((2, 2))\n",
    "        G[np.tril_indices(2)] = S\n",
    "        A = G@G.T - 1e-10*np.identity(2)\n",
    "        return np.linalg.eigh(A)[0][0]\n",
    "\n",
    "    def prob_constraint(self, S):\n",
    "        G = np.zeros((2, 2))\n",
    "        G[np.tril_indices(2)] = S\n",
    "        C_c_inv = LA.inv(mutual_covariance(C_a, C_b) + 1e-10*np.identity(2) + G@G.T)\n",
    "\n",
    "        C_ac = pinv(inv(C_a) - C_c_inv)\n",
    "        C_bc = pinv(inv(C_b) - C_c_inv)\n",
    "\n",
    "        C_abc_inv_inv = pinv(pinv(C_ac) + pinv(C_bc))\n",
    "        C_abc_inv = pinv(C_ac + C_bc)\n",
    "\n",
    "        x_c = (C_abc_inv_inv @ (LA.inv(C_ac) @ x_a.T + LA.inv(C_bc) @ x_b.T)).T\n",
    "\n",
    "        x_ac = (C_ac @ (inv(C_a) @ x_a.T - C_c_inv @ x_c.T)).T\n",
    "        x_bc = (C_bc @ (inv(C_b) @ x_b.T - C_c_inv @ x_c.T)).T\n",
    "\n",
    "        f = ((x_ac - x_bc) @ LA.inv(C_ac+C_bc) @ (x_ac - x_bc).T)[0][0]\n",
    "        return self.e-f\n",
    "\n",
    "    def debug(self, S):\n",
    "        print(S)\n",
    "        print ('objective is',self.objective(S))\n",
    "        print ('constraint1 is ',self.constraint1(S))\n",
    "        print ('constraint2 is ',self.constraint2(S))\n",
    "        print ('prob_constraint is ',self.prob_constraint(S))"
   ]
  },
  {
   "cell_type": "code",
   "execution_count": 45,
   "metadata": {},
   "outputs": [],
   "source": [
    "constraints = Constraints(eta)\n",
    "\n",
    "con1 = {'type': 'ineq', 'fun': constraints.constraint1}\n",
    "con2 = {'type': 'ineq', 'fun': constraints.constraint2}\n",
    "con3 = {'type': 'eq', 'fun': constraints.prob_constraint}\n",
    "cons = [con1, con2, con3]"
   ]
  },
  {
   "cell_type": "code",
   "execution_count": 46,
   "metadata": {},
   "outputs": [
    {
     "name": "stdout",
     "output_type": "stream",
     "text": [
      " barrier_parameter: 6.400000000000003e-06\n",
      " barrier_tolerance: 6.400000000000003e-06\n",
      "          cg_niter: 165\n",
      "      cg_stop_cond: 1\n",
      "            constr: [array([0.02892189]), array([0.02892189]), array([-3.19744231e-13])]\n",
      "       constr_nfev: [776, 776, 776]\n",
      "       constr_nhev: [0, 0, 0]\n",
      "       constr_njev: [0, 0, 0]\n",
      "    constr_penalty: 1.0\n",
      "  constr_violation: 3.197442310920451e-13\n",
      "    execution_time: 1.1869616508483887\n",
      "               fun: 0.19494556876943875\n",
      "              grad: array([ 0.41085595, -0.39477521,  0.6746349 ])\n",
      "               jac: [array([[0.25430532, 0.0832786 , 0.0653406 ]]), array([[0.25430532, 0.0832786 , 0.0653406 ]]), array([[ 11.25618881, -10.82585561,  18.49447066]])]\n",
      "   lagrangian_grad: array([ 5.82506869e-06, -7.86338714e-06, -8.14816329e-06])\n",
      "           message: '`gtol` termination condition is satisfied.'\n",
      "            method: 'tr_interior_point'\n",
      "              nfev: 776\n",
      "              nhev: 0\n",
      "               nit: 116\n",
      "             niter: 116\n",
      "              njev: 194\n",
      "        optimality: 8.148163288979049e-06\n",
      "            status: 1\n",
      "           success: True\n",
      "         tr_radius: 0.011032720514561356\n",
      "                 v: [array([-0.00057287]), array([-0.00057287]), array([-0.03647405])]\n",
      "                 x: array([ 0.20542797, -0.1973876 ,  0.33731744])\n"
     ]
    }
   ],
   "source": [
    "constraints.update_eta(get_critical_value(2, 0.05))\n",
    "sol = minimize(constraints.objective, S_0, method='trust-constr', constraints=cons, tol=1e-5)\n",
    "print(sol)"
   ]
  },
  {
   "cell_type": "code",
   "execution_count": 47,
   "metadata": {},
   "outputs": [
    {
     "name": "stdout",
     "output_type": "stream",
     "text": [
      "[ 0.20542797 -0.1973876   0.33731744]\n",
      "objective is 0.19494556876943875\n",
      "constraint1 is  0.028921891517853356\n",
      "constraint2 is  0.028921891517853356\n",
      "prob_constraint is  -3.197442310920451e-13\n",
      "================\n",
      "[ 0.1228574  -0.27376943  0.03826713]\n",
      "objective is 0.09150801600709442\n",
      "constraint1 is  0.0002421843633518654\n",
      "constraint2 is  0.0002421843633518654\n",
      "prob_constraint is  -3.3539669708204656e-07\n"
     ]
    }
   ],
   "source": [
    "constraints.debug(sol.x)\n",
    "C_c_EI =  mutual_covariance(C_a, C_b) + 1e-10*np.identity(2)\n",
    "\n",
    "G = np.zeros((2, 2))\n",
    "G[np.tril_indices(2)] = sol.x\n",
    "C_c_PC_05 = C_c_EI + G @ G.T\n",
    "\n",
    "\n",
    "constraints.update_eta(get_critical_value(2, 0.01))\n",
    "sol = minimize(constraints.objective, S_0, method='trust-constr', constraints=cons, tol=1e-5)\n",
    "print(\"================\")\n",
    "constraints.debug(sol.x)\n",
    "G = np.zeros((2, 2))\n",
    "G[np.tril_indices(2)] = sol.x\n",
    "\n",
    "C_c_PC_01 = C_c_EI + G @ G.T"
   ]
  },
  {
   "cell_type": "code",
   "execution_count": 48,
   "metadata": {},
   "outputs": [
    {
     "data": {
      "image/png": "[encoded data removed]",
      "text/plain": [
       "<Figure size 432x288 with 1 Axes>"
      ]
     },
     "metadata": {
      "needs_background": "light"
     },
     "output_type": "display_data"
    }
   ],
   "source": [
    "ax = plt.axes()\n",
    "plot_ellipse(C_c_EI, ax)\n",
    "plot_ellipse(C_c_PC_05, ax, color_def=\"blue\")\n",
    "plot_ellipse(C_c_PC_01, ax, color_def=\"green\")"
   ]
  },
  {
   "cell_type": "code",
   "execution_count": 49,
   "metadata": {},
   "outputs": [],
   "source": [
    "fus_PC_05 = inv(inv(C_a) + inv(C_b) - inv(C_c_PC_05))\n",
    "fus_PC_01 = inv(inv(C_a) + inv(C_b) - inv(C_c_PC_01))\n",
    "fus_EI = inv(inv(C_a) + inv(C_b) - inv(C_c_EI))"
   ]
  },
  {
   "cell_type": "code",
   "execution_count": 50,
   "metadata": {},
   "outputs": [
    {
     "name": "stdout",
     "output_type": "stream",
     "text": [
      "0.44974040292363826\n",
      "0.4751854404109923\n"
     ]
    },
    {
     "data": {
      "image/png": "[encoded data removed]",
      "text/plain": [
       "<Figure size 432x288 with 1 Axes>"
      ]
     },
     "metadata": {
      "needs_background": "light"
     },
     "output_type": "display_data"
    }
   ],
   "source": [
    "plt.cla()\n",
    "plt.clf()\n",
    "ax = plt.axes()\n",
    "plot_ellipse(fus_EI, ax, color_def=\"blue\")\n",
    "plot_ellipse(fus_PC_05, ax)\n",
    "plot_ellipse(fus_PC_01, ax, color_def=\"green\")\n",
    "plot_ellipse(C_fus, ax, color_def=\"purple\")\n",
    "\n",
    "print(LA.det(fus_PC_05))\n",
    "print(LA.det(fus_PC_01))"
   ]
  },
  {
   "cell_type": "code",
   "execution_count": 29,
   "metadata": {},
   "outputs": [
    {
     "name": "stdout",
     "output_type": "stream",
     "text": [
      "5.991464547107979\n",
      "9.21034037197618\n"
     ]
    }
   ],
   "source": [
    "print(get_critical_value(2, 0.05))\n",
    "print(get_critical_value(2, 0.01))"
   ]
  },
  {
   "cell_type": "code",
   "execution_count": 30,
   "metadata": {},
   "outputs": [
    {
     "ename": "SyntaxError",
     "evalue": "unexpected EOF while parsing (<ipython-input-30-17d06c411a0d>, line 18)",
     "output_type": "error",
     "traceback": [
      "\u001b[0;36m  File \u001b[0;32m\"<ipython-input-30-17d06c411a0d>\"\u001b[0;36m, line \u001b[0;32m18\u001b[0m\n\u001b[0;31m    \u001b[0m\n\u001b[0m    ^\u001b[0m\n\u001b[0;31mSyntaxError\u001b[0m\u001b[0;31m:\u001b[0m unexpected EOF while parsing\n"
     ]
    }
   ],
   "source": [
    "import matplotlib.pyplot as plt\n",
    "\n",
    "def f(x, y):\n",
    "    z = np.array([x, y])\n",
    "    return prob_constraint(z)\n",
    "\n",
    "fig = plt.figure()\n",
    "ax = plt.axes(projection='3d')\n",
    "x = np.linspace(0, 1, 100)\n",
    "y = np.linspace(0, 1, 100)\n",
    "X, Y = np.meshgrid(x, y)\n",
    "\n",
    "\n",
    "\n",
    "for index_x, i in enumerate(x):\n",
    "    for index_y, j in enumerate(y):\n",
    "        \n",
    "        \n"
   ]
  },
  {
   "cell_type": "code",
   "execution_count": null,
   "metadata": {},
   "outputs": [],
   "source": []
  }
 ],
 "metadata": {
  "kernelspec": {
   "display_name": "Python 3",
   "language": "python",
   "name": "python3"
  },
  "language_info": {
   "codemirror_mode": {
    "name": "ipython",
    "version": 3
   },
   "file_extension": ".py",
   "mimetype": "text/x-python",
   "name": "python",
   "nbconvert_exporter": "python",
   "pygments_lexer": "ipython3",
   "version": "3.6.3"
  }
 },
 "nbformat": 4,
 "nbformat_minor": 2
}
