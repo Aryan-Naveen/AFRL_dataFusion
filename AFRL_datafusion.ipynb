{
 "cells": [
  {
   "cell_type": "code",
   "execution_count": 174,
   "metadata": {},
   "outputs": [],
   "source": [
    "import matplotlib.pyplot as plt\n",
    "import warnings\n",
    "import math\n",
    "import random\n",
    "import numpy as np\n",
    "import sys\n",
    "from scipy.linalg import sqrtm\n",
    "from numpy.linalg import inv, det\n",
    "import numpy.linalg as LA\n",
    "\n",
    "warnings.filterwarnings(\"ignore\")"
   ]
  },
  {
   "cell_type": "code",
   "execution_count": 175,
   "metadata": {},
   "outputs": [],
   "source": [
    "class Space():\n",
    "    def __init__(self):\n",
    "        self.ang_meas_sigma = 0\n",
    "        self.dim = 0\n",
    "        self.size_box = 0\n",
    "        self.border = 0\n",
    "\n",
    "    def get_figure(self):\n",
    "        return plt.figure()\n",
    "    \n",
    "    def get_axes(self):\n",
    "        if(self.dim >= 3):\n",
    "            return plt.axes(projection='3d')\n",
    "        else:\n",
    "            return plt.axes()\n",
    "\n",
    "    def get_3D_axes(self):\n",
    "        return plt.axes(projection='3d')"
   ]
  },
  {
   "cell_type": "code",
   "execution_count": 176,
   "metadata": {},
   "outputs": [],
   "source": [
    "my_space = Space()\n",
    "N_agents = 7\n",
    "N_samples = 4500\n",
    "N_max_gmms = 15\n",
    "P_link = .02\n",
    "axis_length = 100\n",
    "KL_inputs = []\n",
    "N_time_steps = 1000\n",
    "\n",
    "\n",
    "my_space.ang_meas_sigma = 5 * math.pi/180\n",
    "my_space.dim = 2\n",
    "my_space.size_box = axis_length * np.ones((my_space.dim,1))\n",
    "my_space.border = 10"
   ]
  },
  {
   "cell_type": "code",
   "execution_count": 177,
   "metadata": {},
   "outputs": [],
   "source": [
    "target_loc = (np.random.rand(my_space.dim, 1) * (my_space.size_box - 2*my_space.border) + my_space.border).reshape((my_space.dim, ))\n",
    "\n",
    "for val in target_loc:\n",
    "    #For computation time \n",
    "    if(my_space.dim < 3):\n",
    "        KL_inputs.append(np.linspace(val-5, val+5,num=30))\n",
    "    else:\n",
    "        KL_inputs.append(np.linspace(val-2, val+2,num=10))\n",
    "KL_inputs = np.array(KL_inputs)\n",
    "\n",
    "x, y = np.mgrid[target_loc[0]-5:target_loc[0]+5:.1, target_loc[1]-5:target_loc[1]+5:.1]\n",
    "pos = np.empty(x.shape + (2, ))\n",
    "pos[:, :, 0] = x\n",
    "pos[:, :, 1] = y"
   ]
  },
  {
   "cell_type": "code",
   "execution_count": 178,
   "metadata": {},
   "outputs": [],
   "source": [
    "def generateGraphHypercube(dims, N_sensors, dist_prob):\n",
    "\n",
    "    #Constants\n",
    "    dist_prob_scalar = 1.2\n",
    "\n",
    "    #Initialize variables\n",
    "    A = np.zeros((N_sensors, N_sensors))\n",
    "    locs = np.zeros((dims, N_sensors))\n",
    "    \n",
    "    for i in range(N_sensors):\n",
    "        side = random.randint(0, dims - 1)\n",
    "        idx = [j for j in range(side)] + [k for k in range(side + 1, dims)]\n",
    "        locs[side][i] = random.randint(0, 1)\n",
    "        for val in idx:\n",
    "            locs[val][i] = random.random()\n",
    "            \n",
    "    todo = np.arange(1, N_sensors)\n",
    "\n",
    "    iter_num = 1\n",
    "    while (not len(todo) == 0):\n",
    "        for k in todo:\n",
    "            if iter_num == 1:\n",
    "                to_scan = [i for i in range(k)]\n",
    "            else:\n",
    "                to_scan = [i for i in range(N_sensors)]\n",
    "            \n",
    "            for s in to_scan:\n",
    "                if not s==k:\n",
    "                    link_dist = np.linalg.norm(locs[:, k] - locs[:, s])                    \n",
    "                    prob_link = math.exp(-0.5*(link_dist/dist_prob)**2)\n",
    "                    if random.random() < prob_link:\n",
    "                        A[s][k] = 1\n",
    "                        A[k][s] = 1\n",
    "        \n",
    "        todo = np.argwhere(np.sum(A, axis = 0) == 0).reshape(-1)\n",
    "        iter_num += 1\n",
    "        dist_prob *= dist_prob_scalar\n",
    "    \n",
    "\n",
    "    #Do not completely understand this part\n",
    "    my_eigs, _ = np.linalg.eig(np.diag(np.sum(A, axis = 0)) - A)\n",
    "    my_eigs = np.sort(my_eigs)\n",
    "    while abs(my_eigs[1]) < 1e-8:\n",
    "        row = random.randint(0, N_sensors - 1)\n",
    "        col = random.randint(0, N_sensors - 1)\n",
    "        A[row][col] = 1\n",
    "        A[col][row] = 1\n",
    "        my_eigs, _ = np.linalg.eig(np.diag(np.sum(A, axis = 0)) - A)\n",
    "        my_eigs = np.sort(my_eigs)\n",
    "    \n",
    "    return A, locs"
   ]
  },
  {
   "cell_type": "code",
   "execution_count": 179,
   "metadata": {
    "scrolled": true
   },
   "outputs": [
    {
     "name": "stdout",
     "output_type": "stream",
     "text": [
      "Diameter of the graph is: 4\n"
     ]
    },
    {
     "data": {
      "image/png": "[encoded data removed]",
      "text/plain": [
       "<Figure size 432x288 with 1 Axes>"
      ]
     },
     "metadata": {
      "needs_background": "light"
     },
     "output_type": "display_data"
    }
   ],
   "source": [
    "dist = 6\n",
    "while(dist > 4):\n",
    "    A, sens = generateGraphHypercube(my_space.dim, N_agents, 0.2)\n",
    "\n",
    "    sens *= axis_length\n",
    "\n",
    "\n",
    "    curr_A_pow = np.copy(A)\n",
    "    sum_A = np.copy(A)\n",
    "    dist = 1\n",
    "\n",
    "    while np.count_nonzero(sum_A == 0) > 0:\n",
    "        curr_A_pow = np.dot(curr_A_pow, A)\n",
    "        sum_A += curr_A_pow\n",
    "        dist += 1\n",
    "\n",
    "print(\"Diameter of the graph is: \" + str(dist))\n",
    "\n",
    "D = np.sum(A, axis = 0)\n",
    "max_deg = max(D)\n",
    "neighbors = {}\n",
    "for i in range(N_agents):\n",
    "    neighbors[i] = np.nonzero(A[i])\n",
    "\n",
    "fig = my_space.get_figure()\n",
    "ax= my_space.get_axes()\n",
    "\n",
    "for i in range(1, N_agents):\n",
    "    for j in range(i):\n",
    "        if A[i][j] == 1:\n",
    "            if my_space.dim > 2:\n",
    "                X = [sens[0][i], sens[0][j]]\n",
    "                Y = [sens[1][i], sens[1][j]]\n",
    "                Z = [sens[2][i], sens[2][j]]\n",
    "                ax.plot(X, Y, Z)\n",
    "            else:\n",
    "                X = [sens[0][i], sens[0][j]]\n",
    "                Y = [sens[1][i], sens[1][j]]\n",
    "                ax.plot(X, Y)\n",
    "\n",
    "\n",
    "if my_space.dim >= 3:\n",
    "    ax.scatter3D(target_loc[0], target_loc[1], target_loc[2])\n",
    "else:\n",
    "    ax.scatter(target_loc[0], target_loc[1])\n",
    "\n",
    "plt.title(\"Sensor network\")\n",
    "plt.ylabel(\"Distance (m)\")\n",
    "plt.xlabel(\"Distance (m)\")\n",
    "\n",
    "plt.savefig(\"visualizations/SensorNetwork.png\")\n",
    "plt.show()"
   ]
  },
  {
   "cell_type": "code",
   "execution_count": 180,
   "metadata": {},
   "outputs": [
    {
     "name": "stdout",
     "output_type": "stream",
     "text": [
      "3.5.2 (default, Apr 16 2020, 17:47:17) \n",
      "[GCC 5.4.0 20160609]\n"
     ]
    }
   ],
   "source": [
    "def toTuple(arr):\n",
    "    try:\n",
    "        return tuple(toTuple(i) for i in arr)\n",
    "    except TypeError:\n",
    "        return arr\n",
    "\n",
    "sensor_mus = []\n",
    "covs = []\n",
    "mu = toTuple(target_loc)\n",
    "scalar = 1\n",
    "for i in range(N_agents):\n",
    "    S = np.tril(np.random.randn(my_space.dim, my_space.dim))\n",
    "    cov = np.dot(S, S.T) * scalar\n",
    "    while(np.linalg.det(cov) < 0.5):\n",
    "        cov = cov * 2\n",
    "    covs.append(cov)\n",
    "    mu_i = np.random.multivariate_normal(mu, cov, 1)[0]\n",
    "    sensor_mus.append(mu_i)\n",
    "\n",
    "sensor_covs = np.array(covs)\n",
    "sensor_mus = np.array(sensor_mus)\n",
    "print (sys.version)"
   ]
  },
  {
   "cell_type": "code",
   "execution_count": 181,
   "metadata": {},
   "outputs": [
    {
     "data": {
      "image/png": "[encoded data removed]",
      "text/plain": [
       "<Figure size 432x288 with 1 Axes>"
      ]
     },
     "metadata": {
      "needs_background": "light"
     },
     "output_type": "display_data"
    }
   ],
   "source": [
    "def plot_ellipse(covariance, ax, label_t, alpha_val=0.25, color_def='red', center = [0, 0]):\n",
    "    if covariance.shape[0] == 2:\n",
    "        x_el = np.array([np.sin(np.linspace(0, 2*math.pi, num=63)), np.cos(np.linspace(0, 2*math.pi, num=63))])\n",
    "        C = np.linalg.cholesky(covariance)\n",
    "        y_el = np.dot(C, x_el)\n",
    "        ax.plot(y_el[0] + center[0], y_el[1] + center[1], label=label_t, alpha=alpha_val, color=color_def)\n",
    "\n",
    "ax = plt.axes()\n",
    "for ind, cov in enumerate(sensor_covs):\n",
    "    plot_ellipse(cov, ax, \"Initial \" + str(ind + 1))\n",
    "    \n",
    "plt.show()"
   ]
  },
  {
   "cell_type": "code",
   "execution_count": 182,
   "metadata": {},
   "outputs": [],
   "source": [
    "class QCQP_solver():\n",
    "    def __init__(self, P, q, r, z):\n",
    "        self.ogP = P\n",
    "        self.ogq = q\n",
    "        self.ogz = z\n",
    "        self.ogr = r\n",
    "        self.P = P\n",
    "        self.q = q\n",
    "        self.r = r\n",
    "        self.z = z\n",
    "        self.dims = z.size\n",
    "\n",
    "    \n",
    "    def perform_cholesky_transform(self, K):\n",
    "        S = np.linalg.cholesky(K).T\n",
    "        self.P = np.linalg.inv(S.T) @ self.P @ np.linalg.inv(S)\n",
    "        self.q = (self.q.T @ np.linalg.inv(S)).T\n",
    "        self.z = S @ self.z\n",
    "        self.S = S\n",
    "    \n",
    "    def perform_eigen_transform(self):\n",
    "        e_vals, Q = np.linalg.eig(self.P)\n",
    "        self.eig = e_vals\n",
    "        self.P = np.diag(e_vals)\n",
    "        self.q = Q.T @ self.q\n",
    "        self.z = Q.T @ self.z\n",
    "        self.Q = Q\n",
    "    \n",
    "    def generate_bounds_for_nu(self):\n",
    "        bounds = np.zeros((2, 1))\n",
    "        eig_min = np.min(self.eig)\n",
    "        eig_max = np.max(self.eig)\n",
    "        if eig_min>=0:\n",
    "            print(\"WARNING:  There is no upper limit for nu. It can go to +\\infty\")\n",
    "        if eig_max <= 0:\n",
    "            print(\"WARNING:  nu will have to be negative for I+nu \\Lambda to be psd. No limits on it\")\n",
    "        bounds[1]= -1/np.min(self.eig)\n",
    "        bounds[0] = -1/np.max(self.eig)\n",
    "        # print('bounds before sort',bounds,'and after sort',np.sort(bounds))\n",
    "        self.bounds = np.sort(bounds)\n",
    "\n",
    "    def calculate_value(self, nu):\n",
    "        A = self.eig*np.power(nu*self.q-2*self.z, 2)\n",
    "        B = 4*np.power(1+nu*self.eig, 2)\n",
    "\n",
    "        C = (self.q*(nu*self.q-2*self.z))\n",
    "        D = 2*(1+nu*self.eig)\n",
    "        # print(f'eigs is {self.eig}, q is {self.q}, nu is {nu}, z is {self.z}')\n",
    "        # print(f'A is {A}, B is {B}, C is {C}, D is {D}, r is {self.r}')\n",
    "        return np.sum(A/B - C/D) + self.r\n",
    "\n",
    "    def calculate_derivative(self, nu):\n",
    "        return -np.sum(np.power(2*self.eig*self.z+self.q, 2)/np.power(2*(1+nu*self.eig), 3))\n",
    "\n",
    "    def get_potential_nus(self):\n",
    "        return np.linspace(self.bounds[0]+1E-3, self.bounds[1]-1E-3, abs(int((self.bounds[1]-self.bounds[0])*2048)))    \n",
    "\n",
    "\n",
    "    def binary_search_nu(self):\n",
    "        b = np.copy(self.bounds)\n",
    "        for i in range(100):\n",
    "            nu = (b[0] + b[1])/2\n",
    "            val = self.calculate_value(nu)\n",
    "            if val > 0:\n",
    "                b[0] = nu\n",
    "            elif val < 0:\n",
    "                b[1] = nu\n",
    "            else:\n",
    "                break\n",
    "        return nu\n",
    "\n",
    "    def find_optimal_nu(self):\n",
    "        nu = self.binary_search_nu()\n",
    "        print(\"Constraint value in terms of nu: \" + str(self.calculate_value(nu)))\n",
    "        return nu\n",
    "\n",
    "    def inverse_eigen_transform(self, x):\n",
    "        self.P = self.Q @ self.P @ self.Q.T\n",
    "        self.z = self.Q @ self.z\n",
    "        self.q = self.Q @ self.q\n",
    "        return self.Q @ x\n",
    "    \n",
    "    def inverse_cholseky(self, x):\n",
    "        self.P = self.S.T @ self.P @ self.S\n",
    "        self.q = (self.q.T @ self.S).T\n",
    "        self.z = np.linalg.inv(self.S) @ self.z\n",
    "        return np.linalg.inv(self.S) @ x\n",
    "\n",
    "    def calculate_constraint(self, x):\n",
    "        return x.T @ self.P @ x + self.q.T @ x + self.r\n",
    "\n",
    "\n",
    "    def calculate_x_c_val(self, nu):\n",
    "        x_c = -(0.5)*np.linalg.inv(np.identity(self.dims) + nu * np.diag(self.eig)) @ (nu*self.q - 2*self.z)\n",
    "        print(\"Constraint value in terms of x_c: \" + str(self.calculate_constraint(x_c)))\n",
    "        return x_c\n",
    "\n",
    "    def calculate_x_c_case1(self, nu):\n",
    "        x_hat = self.calculate_x_c_val(nu)\n",
    "        tilde_x_c = self.inverse_eigen_transform(x_hat)\n",
    "        return self.inverse_cholseky(tilde_x_c)\n",
    "\n",
    "    def case_2(self, nu):\n",
    "        return (0.5)*np.linalg.pinv(np.identity(self.dims) + nu*self.P) @ (2*self.z - nu*self.q)\n",
    "\n",
    "    def calculate_x_case2(self):\n",
    "        if self.bounds[0] < 0:\n",
    "            print(\"\\nLOWER BOUND NU:\")\n",
    "            x_test_hat = self.case_2(self.bounds[0])\n",
    "            print(x_test_hat.T @ self.P @ x_test_hat + self.q.T @ x_test_hat + self.r)\n",
    "            print(\"\\n\")\n",
    "        if self.bounds[1] > 0:\n",
    "            print(\"\\nLOWER BOUND NU:\")\n",
    "            x_test_hat = self.case_2(self.bounds[1])\n",
    "            print(x_test_hat.T @ self.P @ x_test_hat + self.q.T @ x_test_hat + self.r)\n",
    "            print(\"\\n\")\n"
   ]
  },
  {
   "cell_type": "code",
   "execution_count": 183,
   "metadata": {},
   "outputs": [],
   "source": [
    "def calculate_K(C_a, C_b, C_c):\n",
    "\n",
    "    C_ac_inv = LA.inv(C_a) - LA.inv(C_c)\n",
    "    C_bc_inv = LA.inv(C_b) - LA.inv(C_c)\n",
    "\n",
    "    K_a = LA.inv(C_a) @ (LA.inv(C_ac_inv) @ LA.inv(C_a) - np.identity(C_a.shape[0]))\n",
    "    K_b = LA.inv(C_b) @ (LA.inv(C_bc_inv)@LA.inv(C_b) - np.identity(C_b.shape[0]))\n",
    "    return K_a, K_b\n",
    "\n",
    "def calculate_QCQP_Coeff(K_a, K_b, x_a, x_b):\n",
    "    P = K_a - K_b\n",
    "    q = -2*(x_a @ K_a - x_b @ K_b)\n",
    "    r = x_a.T @ K_a @ x_a - x_b.T @ K_b @ x_b\n",
    "    return P, q, r\n",
    "\n",
    "def calculate_mahalonobis_difference(x_c, x, K):\n",
    "    return (x-x_c) @ K @ (x - x_c).T\n",
    "\n",
    "\n",
    "def qcqp_solver_x_c(x_a, x_b, C_a, C_b, C_c):\n",
    "    a = []\n",
    "    b = []\n",
    "    C_ac_inv = LA.inv(C_a) - LA.inv(C_c)\n",
    "    C_bc_inv = LA.inv(C_b) - LA.inv(C_c)\n",
    "\n",
    "    K_a, K_b = calculate_K(C_a, C_b, C_c)\n",
    "    P, q, r = calculate_QCQP_Coeff(K_a, K_b, x_a, x_b)\n",
    "\n",
    "    solver = QCQP_solver(P, q, r, x_a)\n",
    "\n",
    "    solver.perform_cholesky_transform(K_a)\n",
    "    solver.perform_eigen_transform()\n",
    "    solver.generate_bounds_for_nu()\n",
    "\n",
    "    ################CASE 1#############################\n",
    "    nu = solver.find_optimal_nu()\n",
    "    x_c = solver.calculate_x_c_case1(nu)\n",
    "    a_diff = calculate_mahalonobis_difference(x_c, x_a, K_a)\n",
    "    b_diff = calculate_mahalonobis_difference(x_c, x_b, K_b)\n",
    "    print(\"Mahalonobis difference to A: \" + str(a_diff))\n",
    "    print(\"Mahalonobis difference to B: \" + str(b_diff))\n",
    "    return a_diff, b_diff, x_c\n"
   ]
  },
  {
   "cell_type": "code",
   "execution_count": 184,
   "metadata": {},
   "outputs": [
    {
     "name": "stdout",
     "output_type": "stream",
     "text": [
      "~~~~~~~~~~~~~~~~~~~Initial Distributions~~~~~~~~~~~~~~~~~~~~~~~~~~~~\n",
      "[56.05946935 78.93284811] | [62.29835573 77.85351534]\n"
     ]
    }
   ],
   "source": [
    "a = random.randint(0, N_agents - 1)\n",
    "b = random.randint(0, N_agents - 1)\n",
    "while(b == a):\n",
    "    b = random.randint(0, N_agents - 1)\n",
    "\n",
    "x_a = sensor_mus[a]\n",
    "x_b = sensor_mus[b]\n",
    "\n",
    "C_a = sensor_covs[a]\n",
    "C_b = sensor_covs[b]\n",
    "\n",
    "print(\"~~~~~~~~~~~~~~~~~~~Initial Distributions~~~~~~~~~~~~~~~~~~~~~~~~~~~~\")\n",
    "print(str(x_a) + \" | \" + str(x_b))"
   ]
  },
  {
   "cell_type": "code",
   "execution_count": 185,
   "metadata": {},
   "outputs": [],
   "source": [
    "def mutual_covariance(cov_a, cov_b):\n",
    "    D_a, S_a = np.linalg.eigh(cov_a)\n",
    "    D_a_sqrt = sqrtm(np.diag(D_a))\n",
    "    D_a_sqrt_inv = inv(D_a_sqrt)\n",
    "    M = np.dot(np.dot(np.dot(np.dot(D_a_sqrt_inv, inv(S_a)), cov_b), S_a), D_a_sqrt_inv)    # eqn. 10 in Sijs et al.\n",
    "    D_b, S_b = np.linalg.eigh(M)\n",
    "    D_gamma = np.diag(np.clip(D_b, a_min=1.0, a_max=None))   # eqn. 11b in Sijs et al.\n",
    "    return np.dot(np.dot(np.dot(np.dot(np.dot(np.dot(S_a, D_a_sqrt), S_b), D_gamma), inv(S_b)), D_a_sqrt), inv(S_a))  # eqn. 11a in Sijs et al\n",
    "\n",
    "C_c = mutual_covariance(C_a, C_b)+ 1e-1*np.identity(my_space.dim)\n",
    "C_ac_inv = LA.inv(C_a) - LA.inv(C_c)\n",
    "C_ac = inv(C_ac_inv)\n",
    "C_bc_inv = LA.inv(C_b) - LA.inv(C_c)\n",
    "C_bc = inv(C_bc_inv)"
   ]
  },
  {
   "cell_type": "code",
   "execution_count": 186,
   "metadata": {
    "scrolled": true
   },
   "outputs": [
    {
     "data": {
      "image/png": "[encoded data removed]",
      "text/plain": [
       "<Figure size 432x288 with 1 Axes>"
      ]
     },
     "metadata": {
      "needs_background": "light"
     },
     "output_type": "display_data"
    }
   ],
   "source": [
    "plt.cla()\n",
    "plt.clf()\n",
    "ax = plt.axes()\n",
    "plot_ellipse(C_c, ax, \"Common\", color_def=\"orange\")\n",
    "plot_ellipse(C_a, ax, \"A\")\n",
    "plot_ellipse(C_b, ax, \"B\")\n",
    "ax.legend()\n",
    "plt.show()"
   ]
  },
  {
   "cell_type": "code",
   "execution_count": 187,
   "metadata": {},
   "outputs": [
    {
     "data": {
      "image/png": "[encoded data removed]",
      "text/plain": [
       "<Figure size 432x288 with 1 Axes>"
      ]
     },
     "metadata": {
      "needs_background": "light"
     },
     "output_type": "display_data"
    }
   ],
   "source": [
    "ax = plt.axes()\n",
    "plot_ellipse(C_c, ax, \"Common\", color_def=\"orange\")\n",
    "plot_ellipse(C_a, ax, \"A\")\n",
    "plot_ellipse(C_b, ax, \"B\")\n",
    "plot_ellipse(inv(C_a), ax, \"A inv\", color_def=\"green\")\n",
    "plot_ellipse(inv(C_b), ax, \"B inv\", color_def=\"green\")\n",
    "plot_ellipse(inv(C_c), ax, \"Common inv\", color_def=\"blue\")\n",
    "ax.legend()\n",
    "plt.show()\n"
   ]
  },
  {
   "cell_type": "code",
   "execution_count": 190,
   "metadata": {},
   "outputs": [
    {
     "name": "stdout",
     "output_type": "stream",
     "text": [
      "Constraint value in terms of nu: 0.0\n",
      "Constraint value in terms of x_c: 0.0\n",
      "Mahalonobis difference to A: 0.6617921827620535\n",
      "Mahalonobis difference to B: 0.6617915701046516\n",
      "[56.65610276 79.89755411]\n",
      "[56.05946935 78.93284811] | [62.29835573 77.85351534]\n"
     ]
    }
   ],
   "source": [
    "a_diff, b_diff, x_c = qcqp_solver_x_c(x_a, x_b, C_a, C_b, C_c)\n",
    "print(x_c)\n",
    "print(str(x_a) + \" | \" + str(x_b))"
   ]
  },
  {
   "cell_type": "code",
   "execution_count": 191,
   "metadata": {},
   "outputs": [],
   "source": [
    "x_ac = C_ac @ (inv(C_a) @ x_a - inv(C_c) @ x_c)\n",
    "x_bc = C_bc @ (inv(C_b) @ x_b - inv(C_c) @ x_c)"
   ]
  },
  {
   "cell_type": "code",
   "execution_count": 192,
   "metadata": {},
   "outputs": [
    {
     "data": {
      "image/png": "[encoded data removed]",
      "text/plain": [
       "<Figure size 432x288 with 1 Axes>"
      ]
     },
     "metadata": {
      "needs_background": "light"
     },
     "output_type": "display_data"
    }
   ],
   "source": [
    "plt.cla()\n",
    "plt.clf()\n",
    "ax = plt.axes()\n",
    "\n",
    "plot_ellipse(C_ac, ax, \"Independent A\", center=x_ac)\n",
    "\n",
    "plot_ellipse(C_bc, ax, \"Independent B\", color_def=\"blue\", center=x_bc)\n",
    "\n",
    "plot_ellipse(C_c, ax, \"Common\", color_def=\"yellow\", center=x_c, alpha_val = 1)\n",
    "\n",
    "plot_ellipse(C_a, ax, \"A Distribution\", color_def=\"orange\" ,center=x_a)\n",
    "\n",
    "plot_ellipse(C_b, ax, \"B Distribution\", color_def = \"green\", center=x_b)\n",
    "\n",
    "ax.legend()\n",
    "plt.show()"
   ]
  },
  {
   "cell_type": "code",
   "execution_count": 196,
   "metadata": {},
   "outputs": [
    {
     "data": {
      "image/png": "[encoded data removed]",
      "text/plain": [
       "<Figure size 432x288 with 1 Axes>"
      ]
     },
     "metadata": {
      "needs_background": "light"
     },
     "output_type": "display_data"
    }
   ],
   "source": [
    "plt.cla()\n",
    "plt.clf()\n",
    "ax = plt.axes()\n",
    "\n",
    "ax.plot(x_ac[0], x_ac[1], color=\"red\")\n",
    "ax.plot(x_bc[0], x_bc[1], color=\"blue\")\n",
    "ax.plot(x_c[0], x_c[1], color=\"yellow\")\n",
    "ax.plot(x_a[0], x_a[1], color=\"orange\")\n",
    "ax.plot(x_b[0], x_b[1], color=\"green\")\n",
    "plt.show()"
   ]
  },
  {
   "cell_type": "code",
   "execution_count": null,
   "metadata": {},
   "outputs": [],
   "source": []
  }
 ],
 "metadata": {
  "kernelspec": {
   "display_name": "Python 3",
   "language": "python",
   "name": "python3"
  },
  "language_info": {
   "codemirror_mode": {
    "name": "ipython",
    "version": 3
   },
   "file_extension": ".py",
   "mimetype": "text/x-python",
   "name": "python",
   "nbconvert_exporter": "python",
   "pygments_lexer": "ipython3",
   "version": "3.5.2"
  }
 },
 "nbformat": 4,
 "nbformat_minor": 2
}
