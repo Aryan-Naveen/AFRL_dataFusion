{
 "cells": [
  {
   "cell_type": "code",
   "execution_count": 1,
   "metadata": {},
   "outputs": [],
   "source": [
    "import numpy as np\n",
    "from scipy.optimize import minimize\n",
    "from scipy.stats import chi2\n",
    "from get_inputs import get\n",
    "from scipy.linalg import sqrtm\n",
    "from numpy.linalg import det\n",
    "import numpy.linalg as LA\n"
   ]
  },
  {
   "cell_type": "code",
   "execution_count": null,
   "metadata": {},
   "outputs": [],
   "source": [
    "def objective(S):\n",
    "    C_c_inv = \n",
    "    C_ac = inv(inv(C_a) - C_c_inv)\n",
    "    C_bc = inv(inv(C_b) - C_c_inv)\n",
    "    x_c = (inv(inv(C_ac) + inv(C_bc)) @ (inv(C_ac) @ x_a.T + inv(C_bc) @ x_b.T - C_c_inv@(x_a + x_b).T)).T\n",
    "    x_ac = (C_ac @ (inv(C_a) @ x_a.T - C_c_inv @ x_c.T)).T\n",
    "    x_bc =(C_bc @ (inv(C_b) @ x_b.T - C_c_inv @ x_c.T)).T\n",
    "    f = abs(((x_ac - x_bc) @ inv(C_ac + C_bc) @ (x_ac - x_bc).T)[0][0])\n",
    "    return f\n"
   ]
  }
 ],
 "metadata": {
  "kernelspec": {
   "display_name": "Python 3",
   "language": "python",
   "name": "python3"
  },
  "language_info": {
   "codemirror_mode": {
    "name": "ipython",
    "version": 3
   },
   "file_extension": ".py",
   "mimetype": "text/x-python",
   "name": "python",
   "nbconvert_exporter": "python",
   "pygments_lexer": "ipython3",
   "version": "3.6.3"
  }
 },
 "nbformat": 4,
 "nbformat_minor": 2
}
