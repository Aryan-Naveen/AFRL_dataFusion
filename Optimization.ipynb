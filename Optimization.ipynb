{
 "cells": [
  {
   "cell_type": "code",
   "execution_count": 29,
   "metadata": {},
   "outputs": [],
   "source": [
    "import numpy as np\n",
    "from scipy.optimize import minimize\n",
    "from scipy.stats import chi2\n",
    "from scipy.linalg import sqrtm\n",
    "from numpy.linalg import det\n",
    "import numpy.linalg as LA\n",
    "import matplotlib.pyplot as plt\n",
    "import math\n",
    "\n",
    "def generate_covariance(true_mu, dims):\n",
    "    S = np.tril(np.random.randn(dims, dims))\n",
    "    cov = np.dot(S, S.T)\n",
    "    while(np.linalg.det(cov) < 0.5):\n",
    "        cov = cov * 2\n",
    "    mu = np.random.multivariate_normal(true_mu, cov, 1)[0]\n",
    "\n",
    "    return mu, cov\n",
    "\n",
    "def get(dims):\n",
    "    true_mu = np.zeros((dims, ))\n",
    "\n",
    "    x_ac, C_ac = generate_covariance(true_mu, dims)\n",
    "    x_c, C_c = generate_covariance(true_mu, dims)\n",
    "    x_bc, C_bc = generate_covariance(true_mu, dims)\n",
    "\n",
    "    C_a = LA.inv(LA.inv(C_ac) + LA.inv(C_c))\n",
    "    C_b = LA.inv(LA.inv(C_bc) + LA.inv(C_c))\n",
    "\n",
    "    x_a = C_a @ (LA.inv(C_ac) @ x_ac + LA.inv(C_c) @ x_c)\n",
    "    x_b = C_b @ (LA.inv(C_bc) @ x_bc + LA.inv(C_c) @ x_c)\n",
    "\n",
    "    C_fus = LA.inv(LA.inv(C_a) + LA.inv(C_b) - LA.inv(C_c))\n",
    "\n",
    "    return x_a.reshape(1, dims), x_b.reshape(1, dims), C_a, C_b, C_fus\n"
   ]
  },
  {
   "cell_type": "code",
   "execution_count": 30,
   "metadata": {},
   "outputs": [],
   "source": [
    "def plot_ellipse(covariance, ax, label_t=\"\", linestyle='', alpha_val=0.25, color_def='red', center = [0, 0]):\n",
    "    if covariance.shape[0] == 2:\n",
    "        x_el = np.array([np.sin(np.linspace(0, 2*math.pi, num=63)), np.cos(np.linspace(0, 2*math.pi, num=63))])\n",
    "        C = np.linalg.cholesky(covariance)\n",
    "        y_el = np.dot(C, x_el)\n",
    "        if len(linestyle) > 0:\n",
    "            if len(label_t) > 0:\n",
    "                ax.plot(y_el[0] + center[0], y_el[1] + center[1], label=label_t, alpha=alpha_val, color=color_def, linestyle=linestyle)\n",
    "            else:\n",
    "                ax.plot(y_el[0] + center[0], y_el[1] + center[1], alpha=alpha_val, color=color_def, linestyle=linestyle)            \n",
    "        else:\n",
    "            if len(label_t) > 0:\n",
    "                ax.plot(y_el[0] + center[0], y_el[1] + center[1], label=label_t, alpha=alpha_val, color=color_def)\n",
    "            else:\n",
    "                ax.plot(y_el[0] + center[0], y_el[1] + center[1], alpha=alpha_val, color=color_def)            \n",
    "\n",
    "def mutual_covariance(cov_a, cov_b):\n",
    "    D_a, S_a = np.linalg.eigh(cov_a)\n",
    "    D_a_sqrt = sqrtm(np.diag(D_a))\n",
    "    D_a_sqrt_inv = inv(D_a_sqrt)\n",
    "    M = np.dot(np.dot(np.dot(np.dot(D_a_sqrt_inv, inv(S_a)), cov_b), S_a), D_a_sqrt_inv)    # eqn. 10 in Sijs et al.\n",
    "    D_b, S_b = np.linalg.eigh(M)\n",
    "    D_gamma = np.diag(np.clip(D_b, a_min=1.0, a_max=None))   # eqn. 11b in Sijs et al.\n",
    "    return np.dot(np.dot(np.dot(np.dot(np.dot(np.dot(S_a, D_a_sqrt), S_b), D_gamma), inv(S_b)), D_a_sqrt), inv(S_a))  # eqn. 11a in Sijs et al"
   ]
  },
  {
   "cell_type": "code",
   "execution_count": 31,
   "metadata": {},
   "outputs": [],
   "source": [
    "x_a, x_b, C_a, C_b, C_fus = get(2)\n",
    "\n",
    "x_a = x_a.reshape(1, 2)\n",
    "x_b = x_b.reshape(1, 2)\n",
    "\n",
    "def get_critical_value(dimensions, alpha):\n",
    "    return chi2.ppf((1 - alpha), df=dimensions)\n",
    "\n",
    "eta = get_critical_value(2, 0.05)\n",
    "\n",
    "def inv(mat):\n",
    "    return np.linalg.inv(mat)"
   ]
  },
  {
   "cell_type": "code",
   "execution_count": 32,
   "metadata": {},
   "outputs": [],
   "source": [
    "def objective(S):\n",
    "    return -(S[0]*S[3])\n",
    "\n",
    "def constraint1(S):\n",
    "    S = S.reshape(2, 2)\n",
    "    A = inv(C_a) - inv(inv(S.T) @ inv(S))\n",
    "    return np.linalg.eig(A)[0][0]\n",
    "def constraint2(S):\n",
    "    S = S.reshape(2, 2)\n",
    "    A = inv(C_a) - inv(inv(S.T) @ inv(S))\n",
    "    return np.linalg.eig(A)[0][1]\n",
    "def constraint3(S):\n",
    "    S = S.reshape(2, 2)\n",
    "    A = inv(C_b) - inv(inv(S.T) @ inv(S))\n",
    "    return np.linalg.eig(A)[0][0]\n",
    "def constraint4(S):\n",
    "    S = S.reshape(2, 2)\n",
    "    A = inv(C_b) - inv(inv(S.T) @ inv(S))\n",
    "    return np.linalg.eig(A)[0][1]\n",
    "    \n",
    "\n",
    "\n",
    "def prob_constraint(S):\n",
    "    S = S.reshape(2, 2)\n",
    "    C_c_inv = inv(inv(S.T) @ inv(S))\n",
    "    C_ac = inv(inv(C_a) - C_c_inv)\n",
    "    C_bc = inv(inv(C_b) - C_c_inv)\n",
    "    x_c = (inv(inv(C_ac) + inv(C_bc)) @ (inv(C_ac) @ x_a.T + inv(C_bc) @ x_b.T - C_c_inv@(x_a + x_b).T)).T\n",
    "    x_ac = (C_ac @ (inv(C_a) @ x_a.T - C_c_inv @ x_c.T)).T\n",
    "    x_bc =(C_bc @ (inv(C_b) @ x_b.T - C_c_inv @ x_c.T)).T\n",
    "    f = abs(((x_ac - x_bc) @ inv(C_ac + C_bc) @ (x_ac - x_bc).T)[0][0])\n",
    "    return eta - f\n",
    "\n",
    "def constraint5(S):\n",
    "    return 1e-30 - abs(S[2])\n",
    "\n",
    "b = (-np.inf, np.inf)\n",
    "bnds = (b, b, b, b)"
   ]
  },
  {
   "cell_type": "code",
   "execution_count": 33,
   "metadata": {},
   "outputs": [],
   "source": [
    "con1 = {'type': 'ineq', 'fun': constraint1}\n",
    "con2 = {'type': 'ineq', 'fun': constraint2}\n",
    "con3 = {'type': 'ineq', 'fun': constraint3}\n",
    "con4 = {'type': 'ineq', 'fun': constraint4}\n",
    "con5 = {'type': 'ineq', 'fun': prob_constraint}\n",
    "con6 = {'type': 'ineq', 'fun': constraint5}\n",
    "cons = [con1, con2, con3, con4, con5, con6]\n"
   ]
  },
  {
   "cell_type": "code",
   "execution_count": 34,
   "metadata": {},
   "outputs": [
    {
     "name": "stdout",
     "output_type": "stream",
     "text": [
      "[2.71071846 2.3733683  0.         1.19605584]\n"
     ]
    }
   ],
   "source": [
    "S_0 = (np.linalg.cholesky(inv(mutual_covariance(C_a, C_b))).T).reshape(4, )\n",
    "print(S_0)\n"
   ]
  },
  {
   "cell_type": "code",
   "execution_count": 38,
   "metadata": {},
   "outputs": [],
   "source": [
    "sol = minimize(objective, S_0, method='COBYLA', constraints=cons)"
   ]
  },
  {
   "cell_type": "code",
   "execution_count": 39,
   "metadata": {},
   "outputs": [
    {
     "name": "stdout",
     "output_type": "stream",
     "text": [
      "     fun: -5.73227440195194\n",
      "   maxcv: 1.2615698255310281\n",
      " message: 'Did not converge to a solution satisfying the constraints. See `maxcv` for magnitude of violation.'\n",
      "    nfev: 236\n",
      "  status: 4\n",
      " success: False\n",
      "       x: array([2.29280016, 1.15145769, 0.81084737, 2.50011951])\n"
     ]
    }
   ],
   "source": [
    "print(sol)"
   ]
  },
  {
   "cell_type": "code",
   "execution_count": 40,
   "metadata": {},
   "outputs": [
    {
     "data": {
      "image/png": "[encoded data removed]",
      "text/plain": [
       "<Figure size 432x288 with 1 Axes>"
      ]
     },
     "metadata": {
      "needs_background": "light"
     },
     "output_type": "display_data"
    },
    {
     "name": "stdout",
     "output_type": "stream",
     "text": [
      "[[2.29280016 1.15145769]\n",
      " [0.81084737 2.50011951]]\n"
     ]
    },
    {
     "data": {
      "text/plain": [
       "<Figure size 432x288 with 0 Axes>"
      ]
     },
     "metadata": {},
     "output_type": "display_data"
    }
   ],
   "source": [
    "S = sol.x\n",
    "S = S.reshape(2, 2)\n",
    "\n",
    "C_c = inv(S.T) @ inv(S)\n",
    "\n",
    "\n",
    "ax = plt.axes()\n",
    "plot_ellipse(C_c, ax, alpha_val=1)\n",
    "plot_ellipse(C_a, ax)\n",
    "plot_ellipse(C_b, ax)\n",
    "plot_ellipse(mutual_covariance(C_a, C_b), ax, color_def='orange')\n",
    "plt.show()\n",
    "plt.cla()\n",
    "plt.clf()\n",
    "\n",
    "print(S)"
   ]
  },
  {
   "cell_type": "code",
   "execution_count": 26,
   "metadata": {},
   "outputs": [
    {
     "data": {
      "image/png": "[encoded data removed]",
      "text/plain": [
       "<Figure size 432x288 with 1 Axes>"
      ]
     },
     "metadata": {
      "needs_background": "light"
     },
     "output_type": "display_data"
    }
   ],
   "source": [
    "ax = plt.axes()\n",
    "fus_PC = inv(inv(C_a) + inv(C_b) - inv(C_c))\n",
    "fus_EI = inv(inv(C_a) + inv(C_b) - inv(mutual_covariance(C_a, C_b)))\n",
    "plot_ellipse(fus_PC, ax)\n",
    "plot_ellipse(fus_EI, ax)\n",
    "plt.show()"
   ]
  },
  {
   "cell_type": "code",
   "execution_count": null,
   "metadata": {},
   "outputs": [],
   "source": []
  }
 ],
 "metadata": {
  "kernelspec": {
   "display_name": "Python 3",
   "language": "python",
   "name": "python3"
  },
  "language_info": {
   "codemirror_mode": {
    "name": "ipython",
    "version": 3
   },
   "file_extension": ".py",
   "mimetype": "text/x-python",
   "name": "python",
   "nbconvert_exporter": "python",
   "pygments_lexer": "ipython3",
   "version": "3.6.3"
  }
 },
 "nbformat": 4,
 "nbformat_minor": 2
}
