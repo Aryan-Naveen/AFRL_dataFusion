{
 "cells": [
  {
   "cell_type": "code",
   "execution_count": 1,
   "metadata": {},
   "outputs": [
    {
     "name": "stdout",
     "output_type": "stream",
     "text": [
      "3.6.3 (default, Jul 10 2020, 11:37:39) \n",
      "[GCC 5.4.0 20160609]\n"
     ]
    }
   ],
   "source": [
    "import sys\n",
    "\n",
    "print (sys.version)\n",
    "import matplotlib.pyplot as plt\n",
    "import warnings\n",
    "import math\n",
    "import random\n",
    "import numpy as np\n",
    "from scipy.linalg import sqrtm\n",
    "from numpy.linalg import det\n",
    "import numpy.linalg as LA\n",
    "\n",
    "warnings.filterwarnings(\"ignore\")"
   ]
  },
  {
   "cell_type": "code",
   "execution_count": 2,
   "metadata": {},
   "outputs": [],
   "source": [
    "def convert_initial_values_to_tensors(xa, xb, Ca, Cb):\n",
    "    return torch.tensor(xa), torch.tensor(xb), torch.tensor(Ca), torch.tensor(Cb)\n",
    "\n",
    "def read_in_initial_values(dimension, as_tensors=False):\n",
    "    fin = open('init_cond/' + str(dimension) + \".txt\", 'r')\n",
    "    inp = fin.read().splitlines()\n",
    "    fin.close()\n",
    "    xa = []\n",
    "    for val in inp[0].split(' ')[:-1]:\n",
    "        xa.append(float(val))\n",
    "    xa = np.array(xa)\n",
    "    \n",
    "    xb = []\n",
    "    for val in inp[1].split(' ')[:-1]:\n",
    "        xb.append(float(val))\n",
    "    xb = np.array(xb)\n",
    "    \n",
    "    inp = inp[2:]\n",
    "    Ca = []\n",
    "    for i in range(dimension):\n",
    "        row = []\n",
    "        for val in inp[i].split(' ')[:-1]:\n",
    "            row.append(float(val))\n",
    "        Ca.append(row)    \n",
    "    Ca = np.array(Ca)\n",
    "\n",
    "    Cb = []\n",
    "    for i in range(dimension):\n",
    "        row = []\n",
    "        for val in inp[i+dimension].split(' ')[:-1]:\n",
    "            row.append(float(val))\n",
    "        Cb.append(row)    \n",
    "    Cb = np.array(Cb)\n",
    "    if as_tensors:\n",
    "        return convert_initial_values_to_tensors(xa, xb, Ca, Cb)\n",
    "    else:\n",
    "        return xa, xb, Ca, Cb\n",
    "\n",
    " \n"
   ]
  },
  {
   "cell_type": "code",
   "execution_count": 3,
   "metadata": {},
   "outputs": [],
   "source": [
    "class Space():\n",
    "    def __init__(self):\n",
    "        self.ang_meas_sigma = 0\n",
    "        self.dim = 0\n",
    "        self.size_box = 0\n",
    "        self.border = 0\n",
    "\n",
    "    def get_figure(self):\n",
    "        return plt.figure()\n",
    "    \n",
    "    def get_axes(self):\n",
    "        if(self.dim >= 3):\n",
    "            return plt.axes(projection='3d')\n",
    "        else:\n",
    "            return plt.axes()\n",
    "\n",
    "    def get_3D_axes(self):\n",
    "        return plt.axes(projection='3d')"
   ]
  },
  {
   "cell_type": "code",
   "execution_count": 4,
   "metadata": {},
   "outputs": [],
   "source": [
    "def inv(mat):\n",
    "    if mat.size > 1:\n",
    "        return LA.inv(mat)\n",
    "    else:\n",
    "        return 1/mat"
   ]
  },
  {
   "cell_type": "code",
   "execution_count": 5,
   "metadata": {},
   "outputs": [],
   "source": [
    "my_space = Space()\n",
    "N_agents = 7\n",
    "N_samples = 4500\n",
    "N_max_gmms = 15\n",
    "P_link = .02\n",
    "axis_length = 100\n",
    "\n",
    "N_time_steps = 1000\n",
    "\n",
    "use_predefined_values=True\n",
    "print_value=False\n",
    "print_values=False\n",
    "\n",
    "my_space.ang_meas_sigma = 5 * math.pi/180\n",
    "my_space.dim = 2\n",
    "my_space.size_box = axis_length * np.ones((my_space.dim,1))\n",
    "my_space.border = 10\n",
    "\n",
    "visualize = my_space.dim == 2"
   ]
  },
  {
   "cell_type": "code",
   "execution_count": 6,
   "metadata": {},
   "outputs": [
    {
     "name": "stdout",
     "output_type": "stream",
     "text": [
      "[83.78970298 57.39763479]\n"
     ]
    }
   ],
   "source": [
    "target_loc = (np.random.rand(my_space.dim, 1) * (my_space.size_box - 2*my_space.border) + my_space.border).reshape((my_space.dim, ))\n",
    "print(target_loc)\n",
    "KL_inputs = []\n",
    "for val in target_loc:\n",
    "    #For computation time \n",
    "    if(my_space.dim < 3):\n",
    "        KL_inputs.append(np.linspace(val-5, val+5,num=30))\n",
    "    else:\n",
    "        KL_inputs.append(np.linspace(val-2, val+2,num=10))\n",
    "\n",
    "\n",
    "KL_inputs = np.array(KL_inputs)\n",
    "\n",
    "if my_space.dim == 1:\n",
    "    x = np.mgrid[target_loc[0]-5:target_loc[0]+5:.1]\n",
    "    pos = np.empty(x.shape + (2, ))\n",
    "    pos[:, 0] = x\n",
    "\n",
    "else:\n",
    "    x, y = np.mgrid[target_loc[0]-5:target_loc[0]+5:.1, target_loc[1]-5:target_loc[1]+5:.1]\n",
    "    pos = np.empty(x.shape + (2, ))\n",
    "    pos[:, :, 0] = x\n",
    "    pos[:, :, 1] = y"
   ]
  },
  {
   "cell_type": "code",
   "execution_count": 7,
   "metadata": {},
   "outputs": [],
   "source": [
    "def generateGraphHypercube(dims, N_sensors, dist_prob):\n",
    "\n",
    "    #Constants\n",
    "    dist_prob_scalar = 1.2\n",
    "\n",
    "    #Initialize variables\n",
    "    A = np.zeros((N_sensors, N_sensors))\n",
    "    locs = np.zeros((dims, N_sensors))\n",
    "    \n",
    "    for i in range(N_sensors):\n",
    "        side = random.randint(0, dims - 1)\n",
    "        idx = [j for j in range(side)] + [k for k in range(side + 1, dims)]\n",
    "        locs[side][i] = random.randint(0, 1)\n",
    "        for val in idx:\n",
    "            locs[val][i] = random.random()\n",
    "            \n",
    "    todo = np.arange(1, N_sensors)\n",
    "\n",
    "    iter_num = 1\n",
    "    while (not len(todo) == 0):\n",
    "        for k in todo:\n",
    "            if iter_num == 1:\n",
    "                to_scan = [i for i in range(k)]\n",
    "            else:\n",
    "                to_scan = [i for i in range(N_sensors)]\n",
    "            \n",
    "            for s in to_scan:\n",
    "                if not s==k:\n",
    "                    link_dist = np.linalg.norm(locs[:, k] - locs[:, s])                    \n",
    "                    prob_link = math.exp(-0.5*(link_dist/dist_prob)**2)\n",
    "                    if random.random() < prob_link:\n",
    "                        A[s][k] = 1\n",
    "                        A[k][s] = 1\n",
    "        \n",
    "        todo = np.argwhere(np.sum(A, axis = 0) == 0).reshape(-1)\n",
    "        iter_num += 1\n",
    "        dist_prob *= dist_prob_scalar\n",
    "    \n",
    "\n",
    "    #Do not completely understand this part\n",
    "    my_eigs, _ = np.linalg.eig(np.diag(np.sum(A, axis = 0)) - A)\n",
    "    my_eigs = np.sort(my_eigs)\n",
    "    while abs(my_eigs[1]) < 1e-8:\n",
    "        row = random.randint(0, N_sensors - 1)\n",
    "        col = random.randint(0, N_sensors - 1)\n",
    "        A[row][col] = 1\n",
    "        A[col][row] = 1\n",
    "        my_eigs, _ = np.linalg.eig(np.diag(np.sum(A, axis = 0)) - A)\n",
    "        my_eigs = np.sort(my_eigs)\n",
    "    \n",
    "    return A, locs"
   ]
  },
  {
   "cell_type": "code",
   "execution_count": 8,
   "metadata": {
    "scrolled": true
   },
   "outputs": [
    {
     "name": "stdout",
     "output_type": "stream",
     "text": [
      "Diameter of the graph is: 4\n"
     ]
    },
    {
     "data": {
      "image/png": "[encoded data removed]",
      "text/plain": [
       "<Figure size 432x288 with 1 Axes>"
      ]
     },
     "metadata": {
      "needs_background": "light"
     },
     "output_type": "display_data"
    }
   ],
   "source": [
    "dist = 6\n",
    "while(dist > 4):\n",
    "    A, sens = generateGraphHypercube(my_space.dim, N_agents, 0.2)\n",
    "\n",
    "    sens *= axis_length\n",
    "\n",
    "\n",
    "    curr_A_pow = np.copy(A)\n",
    "    sum_A = np.copy(A)\n",
    "    dist = 1\n",
    "\n",
    "    while np.count_nonzero(sum_A == 0) > 0:\n",
    "        curr_A_pow = np.dot(curr_A_pow, A)\n",
    "        sum_A += curr_A_pow\n",
    "        dist += 1\n",
    "\n",
    "print(\"Diameter of the graph is: \" + str(dist))\n",
    "\n",
    "D = np.sum(A, axis = 0)\n",
    "max_deg = max(D)\n",
    "neighbors = {}\n",
    "for i in range(N_agents):\n",
    "    neighbors[i] = np.nonzero(A[i])\n",
    "\n",
    "if(visualize):\n",
    "    fig = my_space.get_figure()\n",
    "    ax= my_space.get_axes()\n",
    "\n",
    "    for i in range(1, N_agents):\n",
    "        for j in range(i):\n",
    "            if A[i][j] == 1:\n",
    "                if my_space.dim > 2:\n",
    "                    X = [sens[0][i], sens[0][j]]\n",
    "                    Y = [sens[1][i], sens[1][j]]\n",
    "                    Z = [sens[2][i], sens[2][j]]\n",
    "                    ax.plot(X, Y, Z)\n",
    "                elif my_space.dim == 2:\n",
    "                    X = [sens[0][i], sens[0][j]]\n",
    "                    Y = [sens[1][i], sens[1][j]]\n",
    "                    ax.plot(X, Y)\n",
    "                else:\n",
    "                    X = [sens[0][i], sens[0][j]]\n",
    "                    Y = [0]*len(X)\n",
    "                    ax.plot(X, Y)\n",
    "\n",
    "\n",
    "    if my_space.dim >= 3:\n",
    "        ax.scatter3D(target_loc[0], target_loc[1], target_loc[2])\n",
    "    elif my_space.dim == 2:\n",
    "        ax.scatter(target_loc[0], target_loc[1])\n",
    "    else:\n",
    "        ax.scatter(target_loc[0], 0)\n",
    "\n",
    "    plt.title(\"Sensor network\")\n",
    "    plt.ylabel(\"Distance (m)\")\n",
    "    plt.xlabel(\"Distance (m)\")\n",
    "\n",
    "    plt.savefig(\"visualizations/SensorNetwork.png\")\n",
    "    plt.show()"
   ]
  },
  {
   "cell_type": "code",
   "execution_count": 9,
   "metadata": {},
   "outputs": [
    {
     "name": "stdout",
     "output_type": "stream",
     "text": [
      "3.6.3 (default, Jul 10 2020, 11:37:39) \n",
      "[GCC 5.4.0 20160609]\n"
     ]
    }
   ],
   "source": [
    "def toTuple(arr):\n",
    "    try:\n",
    "        return tuple(toTuple(i) for i in arr)\n",
    "    except TypeError:\n",
    "        return arr\n",
    "\n",
    "sensor_mus = []\n",
    "covs = []\n",
    "mu = toTuple(target_loc)\n",
    "scalar = 1\n",
    "for i in range(N_agents):\n",
    "    S = np.tril(np.random.randn(my_space.dim, my_space.dim))\n",
    "    cov = np.dot(S, S.T) * scalar\n",
    "    while(np.linalg.det(cov) < 0.5):\n",
    "        cov = cov * 2\n",
    "    covs.append(cov)\n",
    "    mu_i = np.random.multivariate_normal(mu, cov, 1)[0]\n",
    "    sensor_mus.append(mu_i)\n",
    "\n",
    "sensor_covs = np.array(covs)\n",
    "sensor_mus = np.array(sensor_mus)\n",
    "print (sys.version)"
   ]
  },
  {
   "cell_type": "code",
   "execution_count": 10,
   "metadata": {},
   "outputs": [
    {
     "data": {
      "image/png": "[encoded data removed]",
      "text/plain": [
       "<Figure size 432x288 with 1 Axes>"
      ]
     },
     "metadata": {
      "needs_background": "light"
     },
     "output_type": "display_data"
    }
   ],
   "source": [
    "def plot_ellipse(covariance, ax, label_t, alpha_val=0.25, color_def='red', center = [0, 0]):\n",
    "    if covariance.shape[0] == 2:\n",
    "        x_el = np.array([np.sin(np.linspace(0, 2*math.pi, num=63)), np.cos(np.linspace(0, 2*math.pi, num=63))])\n",
    "        C = np.linalg.cholesky(covariance)\n",
    "        y_el = np.dot(C, x_el)\n",
    "        ax.plot(y_el[0] + center[0], y_el[1] + center[1], label=label_t, alpha=alpha_val, color=color_def)\n",
    "if(visualize):\n",
    "    ax = plt.axes()\n",
    "    for ind, cov in enumerate(sensor_covs):\n",
    "        plot_ellipse(cov, ax, \"Initial \" + str(ind + 1))\n",
    "\n",
    "    plt.show()"
   ]
  },
  {
   "cell_type": "code",
   "execution_count": 11,
   "metadata": {},
   "outputs": [],
   "source": [
    "class QCQP_solver():\n",
    "    def __init__(self, P, q, r, z):\n",
    "        self.ogP = P\n",
    "        self.ogq = q\n",
    "        self.ogz = z\n",
    "        self.ogr = r\n",
    "        self.P = P\n",
    "        self.q = q\n",
    "        self.r = r\n",
    "        self.z = z\n",
    "        self.dims = z.size\n",
    "\n",
    "    \n",
    "    def perform_cholesky_transform(self, K):\n",
    "        S = np.linalg.cholesky(K).T\n",
    "        self.P = inv(S.T) @ self.P @ inv(S)\n",
    "        self.q = (self.q.T @ inv(S)).T\n",
    "        self.z = S @ self.z\n",
    "        self.S = S\n",
    "    \n",
    "    def perform_eigen_transform(self):\n",
    "        e_vals, Q = np.linalg.eig(self.P)\n",
    "        self.eig = e_vals\n",
    "        self.P = np.diag(e_vals)\n",
    "        self.q = Q.T @ self.q\n",
    "        self.z = Q.T @ self.z\n",
    "        self.Q = Q\n",
    "    \n",
    "    def generate_bounds_for_nu(self):\n",
    "        bounds = np.zeros((2, 1))\n",
    "        eig_min = np.min(self.eig)\n",
    "        eig_max = np.max(self.eig)\n",
    "        if eig_min>=0:\n",
    "            if print_value: print(\"WARNING:  There is no upper limit for nu. It can go to +\\infty\")\n",
    "        if eig_max <= 0:\n",
    "            if print_value: print(\"WARNING:  nu will have to be negative for I+nu \\Lambda to be psd. No limits on it\")\n",
    "        bounds[1]= -1/np.min(self.eig)\n",
    "        bounds[0] = -1/np.max(self.eig)\n",
    "        # if print_value: print('bounds before sort',bounds,'and after sort',np.sort(bounds))\n",
    "        self.bounds = np.sort(bounds)\n",
    "\n",
    "    def calculate_value(self, nu):\n",
    "        A = self.eig*np.power(nu*self.q-2*self.z, 2)\n",
    "        B = 4*np.power(1+nu*self.eig, 2)\n",
    "\n",
    "        C = (self.q*(nu*self.q-2*self.z))\n",
    "        D = 2*(1+nu*self.eig)\n",
    "        # if print_value: print(f'eigs is {self.eig}, q is {self.q}, nu is {nu}, z is {self.z}')\n",
    "        # if print_value: print(f'A is {A}, B is {B}, C is {C}, D is {D}, r is {self.r}')\n",
    "        return np.sum(A/B - C/D) + self.r\n",
    "\n",
    "    def calculate_derivative(self, nu):\n",
    "        return -np.sum(np.power(2*self.eig*self.z+self.q, 2)/np.power(2*(1+nu*self.eig), 3))\n",
    "\n",
    "    def get_potential_nus(self):\n",
    "        return np.linspace(self.bounds[0]+1E-3, self.bounds[1]-1E-3, abs(int((self.bounds[1]-self.bounds[0])*2048)))    \n",
    "\n",
    "\n",
    "    def binary_search_nu(self):\n",
    "        b = np.copy(self.bounds)\n",
    "        for i in range(100):\n",
    "            nu = (b[0] + b[1])/2\n",
    "            val = self.calculate_value(nu)\n",
    "            if val > 0:\n",
    "                b[0] = nu\n",
    "            elif val < 0:\n",
    "                b[1] = nu\n",
    "            else:\n",
    "                break\n",
    "        return nu\n",
    "\n",
    "    def find_optimal_nu(self):\n",
    "        nu = self.binary_search_nu()\n",
    "        if print_value: print(\"Constraint value in terms of nu: \" + str(self.calculate_value(nu)))\n",
    "        return nu\n",
    "\n",
    "    def inverse_eigen_transform(self, x):\n",
    "        self.P = self.Q @ self.P @ self.Q.T\n",
    "        self.z = self.Q @ self.z\n",
    "        self.q = self.Q @ self.q\n",
    "        return self.Q @ x\n",
    "    \n",
    "    def inverse_cholseky(self, x):\n",
    "        self.P = self.S.T @ self.P @ self.S\n",
    "        self.q = (self.q.T @ self.S).T\n",
    "        self.z = inv(self.S) @ self.z\n",
    "        return inv(self.S) @ x\n",
    "\n",
    "    def calculate_constraint(self, x):\n",
    "        return x.T @ self.P @ x + self.q.T @ x + self.r\n",
    "\n",
    "\n",
    "    def calculate_x_c_val(self, nu):\n",
    "        x_c = -(0.5)*inv(np.identity(self.dims) + nu * np.diag(self.eig)) @ (nu*self.q - 2*self.z)\n",
    "        if print_value: print(\"Constraint value in terms of x_c: \" + str(self.calculate_constraint(x_c)))\n",
    "        return x_c\n",
    "\n",
    "    def calculate_x_c_case1(self, nu):\n",
    "        x_hat = self.calculate_x_c_val(nu)\n",
    "        tilde_x_c = self.inverse_eigen_transform(x_hat)\n",
    "        return self.inverse_cholseky(tilde_x_c)\n",
    "\n",
    "    def case_2(self, nu):\n",
    "        return (0.5)*np.linalg.pinv(np.identity(self.dims) + nu*self.P) @ (2*self.z - nu*self.q)\n",
    "\n",
    "    def calculate_x_case2(self):\n",
    "        if self.bounds[0] < 0:\n",
    "            if print_value: print(\"\\nLOWER BOUND NU:\")\n",
    "            x_test_hat = self.case_2(self.bounds[0])\n",
    "            if print_value: print(x_test_hat.T @ self.P @ x_test_hat + self.q.T @ x_test_hat + self.r)\n",
    "            if print_value: print(\"\\n\")\n",
    "        if self.bounds[1] > 0:\n",
    "            if print_value: print(\"\\nLOWER BOUND NU:\")\n",
    "            x_test_hat = self.case_2(self.bounds[1])\n",
    "            if print_value: print(x_test_hat.T @ self.P @ x_test_hat + self.q.T @ x_test_hat + self.r)\n",
    "            if print_value: print(\"\\n\")\n"
   ]
  },
  {
   "cell_type": "code",
   "execution_count": 12,
   "metadata": {},
   "outputs": [],
   "source": [
    "def calculate_K(C_a, C_b, C_c):\n",
    "    C_ac_inv = inv(C_a) - inv(C_c)\n",
    "    C_bc_inv = inv(C_b) - inv(C_c)\n",
    "\n",
    "    K_a = inv(C_a) @ (inv(C_ac_inv) @ inv(C_a) - np.identity(C_a.shape[0]))\n",
    "    K_b = inv(C_b) @ (inv(C_bc_inv)@ inv(C_b) - np.identity(C_b.shape[0]))\n",
    "    return K_a, K_b\n",
    "\n",
    "def calculate_QCQP_Coeff(K_a, K_b, x_a, x_b):\n",
    "    P = K_a - K_b\n",
    "    q = -2*(x_a @ K_a - x_b @ K_b)\n",
    "    r = x_a.T @ K_a @ x_a - x_b.T @ K_b @ x_b\n",
    "    return P, q, r\n",
    "\n",
    "def calculate_mahalonobis_difference(x_c, x, K):\n",
    "    return (x-x_c) @ K @ (x - x_c).T\n",
    "\n",
    "\n",
    "def qcqp_solver_x_c(x_a, x_b, C_a, C_b, C_c):\n",
    "    dims = x_a.size\n",
    "    if print_value: print(dims)\n",
    "    if dims > 1:\n",
    "        C_ac_inv = inv(C_a) - inv(C_c)\n",
    "        C_bc_inv = inv(C_b) - inv(C_c)\n",
    "\n",
    "        K_a, K_b = calculate_K(C_a, C_b, C_c)\n",
    "        P, q, r = calculate_QCQP_Coeff(K_a, K_b, x_a, x_b)\n",
    "\n",
    "        solver = QCQP_solver(P, q, r, x_a)\n",
    "\n",
    "        solver.perform_cholesky_transform(K_a)\n",
    "        solver.perform_eigen_transform()\n",
    "        solver.generate_bounds_for_nu()\n",
    "\n",
    "        ################CASE 1#############################\n",
    "        nu = solver.find_optimal_nu()\n",
    "        x_c = inv(inv(C_ac) + inv(C_bc)) @ (inv(C_ac) @ x_a + inv(C_bc) @ x_b)\n",
    "        a_diff = calculate_mahalonobis_difference(x_c, x_a, K_a)\n",
    "        b_diff = calculate_mahalonobis_difference(x_c, x_b, K_b)\n",
    "        if print_values: print(\"Mahalonobis difference to A: \" + str(a_diff))\n",
    "        if print_values: print(\"Mahalonobis difference to B: \" + str(b_diff))\n",
    "        return a_diff, b_diff, x_c\n",
    "    else:\n",
    "        K_a, K_b = calculate_K(C_a, C_b, C_c)\n",
    "        a = (K_a - K_b)\n",
    "        b = -2*(K_a*x_a - K_b*x_b)\n",
    "        c = K_a*x_a**2-K_b*x_b**2\n",
    "        \n",
    "        x_c_1 = (-b + math.sqrt(b**2-4*a*c))/(2*a)\n",
    "        x_c_2 = (-b - math.sqrt(b**2-4*a*c))/(2*a)\n",
    "        \n",
    "        if np.sign(x_b - x_c_1) != np.sign(x_a - x_c_1):\n",
    "            x_c = x_c_1\n",
    "        else:\n",
    "            x_c = x_c_2\n",
    "        a_diff = calculate_mahalonobis_difference(x_c, x_a, K_a)\n",
    "        b_diff = calculate_mahalonobis_difference(x_c, x_b, K_b)\n",
    "        if print_values: print(\"Mahalonobis difference to A: \" + str(a_diff))\n",
    "        if print_values: print(\"Mahalonobis difference to B: \" + str(b_diff))\n",
    "        return a_diff, b_diff, x_c\n",
    "\n",
    "        \n"
   ]
  },
  {
   "cell_type": "code",
   "execution_count": 13,
   "metadata": {},
   "outputs": [
    {
     "name": "stdout",
     "output_type": "stream",
     "text": [
      "~~~~~~~~~~~~~~~~~~~Initial Distributions~~~~~~~~~~~~~~~~~~~~~~~~~~~~\n",
      "[72.12688793 75.88634715] | [72.21211198 71.69496266]\n"
     ]
    }
   ],
   "source": [
    "a = random.randint(0, N_agents - 1)\n",
    "b = random.randint(0, N_agents - 1)\n",
    "while(b == a):\n",
    "    b = random.randint(0, N_agents - 1)\n",
    "\n",
    "if not use_predefined_values:\n",
    "    x_a = sensor_mus[a]\n",
    "    x_b = sensor_mus[b]\n",
    "\n",
    "    C_a = sensor_covs[a]\n",
    "    C_b = sensor_covs[b]\n",
    "else:\n",
    "    x_a, x_b, C_a, C_b = read_in_initial_values(my_space.dim)\n",
    "\n",
    "print(\"~~~~~~~~~~~~~~~~~~~Initial Distributions~~~~~~~~~~~~~~~~~~~~~~~~~~~~\")\n",
    "print(str(x_a) + \" | \" + str(x_b))"
   ]
  },
  {
   "cell_type": "code",
   "execution_count": 14,
   "metadata": {},
   "outputs": [],
   "source": [
    "def mutual_covariance(cov_a, cov_b):\n",
    "    D_a, S_a = np.linalg.eigh(cov_a)\n",
    "    D_a_sqrt = sqrtm(np.diag(D_a))\n",
    "    D_a_sqrt_inv = inv(D_a_sqrt)\n",
    "    M = np.dot(np.dot(np.dot(np.dot(D_a_sqrt_inv, inv(S_a)), cov_b), S_a), D_a_sqrt_inv)    # eqn. 10 in Sijs et al.\n",
    "    D_b, S_b = np.linalg.eigh(M)\n",
    "    D_gamma = np.diag(np.clip(D_b, a_min=1.0, a_max=None))   # eqn. 11b in Sijs et al.\n",
    "    return np.dot(np.dot(np.dot(np.dot(np.dot(np.dot(S_a, D_a_sqrt), S_b), D_gamma), inv(S_b)), D_a_sqrt), inv(S_a))  # eqn. 11a in Sijs et al\n",
    "\n",
    "C_c = mutual_covariance(C_a, C_b) + 1e-1*np.identity(my_space.dim)\n",
    "C_ac_inv = inv(C_a) - inv(C_c)\n",
    "C_ac = inv(C_ac_inv)\n",
    "C_bc_inv = inv(C_b) - inv(C_c)\n",
    "C_bc = inv(C_bc_inv)"
   ]
  },
  {
   "cell_type": "code",
   "execution_count": 15,
   "metadata": {
    "scrolled": true
   },
   "outputs": [
    {
     "data": {
      "image/png": "[encoded data removed]",
      "text/plain": [
       "<Figure size 432x288 with 1 Axes>"
      ]
     },
     "metadata": {
      "needs_background": "light"
     },
     "output_type": "display_data"
    }
   ],
   "source": [
    "if(visualize):\n",
    "    plt.cla()\n",
    "    plt.clf()\n",
    "    ax = plt.axes()\n",
    "    plot_ellipse(C_c, ax, \"Common\", color_def=\"orange\")\n",
    "    plot_ellipse(C_a, ax, \"A\")\n",
    "    plot_ellipse(C_b, ax, \"B\")\n",
    "    ax.legend()\n",
    "    plt.show()"
   ]
  },
  {
   "cell_type": "code",
   "execution_count": 16,
   "metadata": {},
   "outputs": [
    {
     "data": {
      "image/png": "[encoded data removed]",
      "text/plain": [
       "<Figure size 432x288 with 1 Axes>"
      ]
     },
     "metadata": {
      "needs_background": "light"
     },
     "output_type": "display_data"
    }
   ],
   "source": [
    "if(visualize):\n",
    "    ax = plt.axes()\n",
    "    plot_ellipse(C_c, ax, \"Common\", color_def=\"orange\")\n",
    "    plot_ellipse(C_a, ax, \"A\")\n",
    "    plot_ellipse(C_b, ax, \"B\")\n",
    "    plot_ellipse(inv(C_a), ax, \"A inv\", color_def=\"green\")\n",
    "    plot_ellipse(inv(C_b), ax, \"B inv\", color_def=\"green\")\n",
    "    plot_ellipse(inv(C_c), ax, \"Common inv\", color_def=\"blue\")\n",
    "    ax.legend()\n",
    "    plt.show()\n"
   ]
  },
  {
   "cell_type": "code",
   "execution_count": 17,
   "metadata": {},
   "outputs": [],
   "source": [
    "from scipy.stats import multivariate_normal\n",
    "def visualize_one_dimensional(x_a, x_b, x_c, C_a, C_b, C_c):\n",
    "    lb = min(x_a, x_b) - 3*max(C_b, C_a)\n",
    "    ub = max(x_a, x_b) + 3*max(C_b, C_a)\n",
    "    x = np.linspace(lb, ub, 1024, endpoint=False)\n",
    "    ya = multivariate_normal.pdf(x, mean=x_a, cov=C_a)\n",
    "    yb = multivariate_normal.pdf(x, mean=x_b, cov=C_b)\n",
    "    yc = multivariate_normal.pdf(x, mean=x_c, cov=C_c)\n",
    "    plt.cla()\n",
    "    plt.clf()\n",
    "    ax = plt.axes()\n",
    "    ax.plot(x, ya, label=\"A distribution\")\n",
    "    ax.plot(x, yb, label=\"B distribution\")\n",
    "    ax.plot(x, yc, label=\"C distribution\")\n",
    "    ax.legend()\n",
    "    plt.show()"
   ]
  },
  {
   "cell_type": "code",
   "execution_count": 18,
   "metadata": {},
   "outputs": [
    {
     "name": "stdout",
     "output_type": "stream",
     "text": [
      "[79.65640812 71.46383827]\n",
      "[72.12688793 75.88634715] | [72.21211198 71.69496266]\n"
     ]
    }
   ],
   "source": [
    "a_diff, b_diff, x_c = qcqp_solver_x_c(x_a, x_b, C_a, C_b, C_c)\n",
    "print(x_c)\n",
    "print(str(x_a) + \" | \" + str(x_b))\n",
    "if(my_space.dim == 1):\n",
    "    visualize_one_dimensional(x_a[0], x_b[0], x_c[0][0], C_a[0][0], C_b[0][0], C_c[0][0])"
   ]
  },
  {
   "cell_type": "code",
   "execution_count": 19,
   "metadata": {},
   "outputs": [],
   "source": [
    "x_ac = C_ac @ (inv(C_a) @ x_a - inv(C_c) @ x_c)\n",
    "x_bc = C_bc @ (inv(C_b) @ x_b - inv(C_c) @ x_c)\n",
    "if(my_space.dim == 1):\n",
    "    visualize_one_dimensional(x_ac[0], x_bc[0], x_c[0][0], C_a[0][0], C_b[0][0], C_c[0][0])"
   ]
  },
  {
   "cell_type": "code",
   "execution_count": 20,
   "metadata": {},
   "outputs": [
    {
     "data": {
      "image/png": "[encoded data removed]",
      "text/plain": [
       "<Figure size 432x288 with 1 Axes>"
      ]
     },
     "metadata": {
      "needs_background": "light"
     },
     "output_type": "display_data"
    }
   ],
   "source": [
    "if(visualize):\n",
    "    plt.cla()\n",
    "    plt.clf()\n",
    "    ax = plt.axes()\n",
    "\n",
    "    plot_ellipse(C_ac, ax, \"Independent A\", center=x_ac)\n",
    "\n",
    "    plot_ellipse(C_bc, ax, \"Independent B\", color_def=\"blue\", center=x_bc)\n",
    "\n",
    "    plot_ellipse(C_c, ax, \"Common\", color_def=\"yellow\", center=x_c, alpha_val = 1)\n",
    "\n",
    "    plot_ellipse(C_a, ax, \"A Distribution\", color_def=\"orange\" ,center=x_a)\n",
    "\n",
    "    plot_ellipse(C_b, ax, \"B Distribution\", color_def = \"green\", center=x_b)\n",
    "\n",
    "    ax.legend()\n",
    "    plt.show()"
   ]
  },
  {
   "cell_type": "code",
   "execution_count": 21,
   "metadata": {},
   "outputs": [
    {
     "data": {
      "image/png": "[encoded data removed]",
      "text/plain": [
       "<Figure size 432x288 with 1 Axes>"
      ]
     },
     "metadata": {
      "needs_background": "light"
     },
     "output_type": "display_data"
    }
   ],
   "source": [
    "if(visualize):\n",
    "    C_fus = C_a @ inv(C_c) @ C_b\n",
    "\n",
    "    plt.cla()\n",
    "    plt.clf()\n",
    "    ax = plt.axes()\n",
    "    if(my_space.dim > 1):\n",
    "        plt.scatter(x_c[0], x_c[1], color=\"red\", label = \"Common Mean\")\n",
    "        plot_ellipse(C_c, ax, \"Common\", color_def=\"red\", center=x_c, alpha_val = 1)\n",
    "        plt.scatter(x_a[0], x_a[1], color=\"orange\", label = \"A\")\n",
    "        plt.scatter(x_b[0], x_b[1], color=\"green\", label = \"B\")\n",
    "        plot_ellipse(C_a, ax, \"A Distribution\", color_def=\"orange\" ,center=x_a)\n",
    "        plot_ellipse(C_b, ax, \"B Distribution\", color_def = \"green\", center=x_b)\n",
    "        plot_ellipse(C_fus, ax, \"Fusion Distribution\", color_def = \"blue\", center=x_c)\n",
    "    else:\n",
    "        plt.scatter(x_c[0], 0, color=\"red\", label = \"Common Mean\")\n",
    "        plt.scatter(x_a[0], 0, color=\"orange\", label = \"A\")\n",
    "        plt.scatter(x_b[0], 0, color=\"green\", label = \"B\")\n",
    "\n",
    "        print(C_b)\n",
    "        print(C_a)\n",
    "    ax.legend()\n",
    "    plt.show()"
   ]
  },
  {
   "cell_type": "code",
   "execution_count": 22,
   "metadata": {},
   "outputs": [
    {
     "data": {
      "image/png": "[encoded data removed]",
      "text/plain": [
       "<Figure size 432x288 with 1 Axes>"
      ]
     },
     "metadata": {
      "needs_background": "light"
     },
     "output_type": "display_data"
    }
   ],
   "source": [
    "if visualize:\n",
    "    plt.cla()\n",
    "    plt.clf()\n",
    "    ax = plt.axes()\n",
    "\n",
    "    plt.scatter(x_ac[0], x_ac[1], color=\"orange\", label = \"Independent A\")\n",
    "    plt.scatter(x_bc[0], x_bc[1], color=\"green\", label = \"Independent B\")\n",
    "    plt.scatter(x_c[0], x_c[1], color=\"red\", label = \"Common Mean\")\n",
    "    plot_ellipse(C_c, ax, \"Common\", color_def=\"red\", center=x_c, alpha_val = 1)\n",
    "    plot_ellipse(C_ac, ax, \"Independent A\", center=x_ac, color_def = \"orange\")\n",
    "    plot_ellipse(C_a, ax, \"A\", center = x_a, color_def=\"blue\")\n",
    "    plot_ellipse(C_bc, ax, \"Independent B\", center=x_bc , color_def=\"green\")\n",
    "    plot_ellipse(C_b, ax, \"B\", center = x_b, color_def=\"blue\")\n",
    "\n",
    "    ax.legend()\n",
    "    plt.show()"
   ]
  },
  {
   "cell_type": "code",
   "execution_count": 23,
   "metadata": {},
   "outputs": [],
   "source": [
    "from scipy.stats import chi2\n",
    "\n",
    "def get_critical_value(dimensions, alpha):\n",
    "    return chi2.ppf((1 - alpha), df=dimensions)\n",
    "\n",
    "cr_05 = get_critical_value(my_space.dim, 0.05)\n",
    "cr_10 = get_critical_value(my_space.dim, 0.1)"
   ]
  },
  {
   "cell_type": "code",
   "execution_count": 24,
   "metadata": {
    "scrolled": true
   },
   "outputs": [
    {
     "ename": "LinAlgError",
     "evalue": "Singular matrix",
     "output_type": "error",
     "traceback": [
      "\u001b[0;31m---------------------------------------------------------------------------\u001b[0m",
      "\u001b[0;31mLinAlgError\u001b[0m                               Traceback (most recent call last)",
      "\u001b[0;32m<ipython-input-24-dc14df79287e>\u001b[0m in \u001b[0;36m<module>\u001b[0;34m\u001b[0m\n\u001b[1;32m     21\u001b[0m \u001b[0;32mfor\u001b[0m \u001b[0mn\u001b[0m \u001b[0;32min\u001b[0m \u001b[0mbounds\u001b[0m\u001b[0;34m:\u001b[0m\u001b[0;34m\u001b[0m\u001b[0m\n\u001b[1;32m     22\u001b[0m     \u001b[0mC_c\u001b[0m \u001b[0;34m=\u001b[0m \u001b[0mtest_multiplier\u001b[0m\u001b[0;34m(\u001b[0m\u001b[0mouter\u001b[0m\u001b[0;34m,\u001b[0m \u001b[0mn\u001b[0m\u001b[0;34m,\u001b[0m \u001b[0mC\u001b[0m\u001b[0;34m)\u001b[0m\u001b[0;34m\u001b[0m\u001b[0m\n\u001b[0;32m---> 23\u001b[0;31m     \u001b[0mC_ac\u001b[0m \u001b[0;34m=\u001b[0m \u001b[0minv\u001b[0m\u001b[0;34m(\u001b[0m\u001b[0minv\u001b[0m\u001b[0;34m(\u001b[0m\u001b[0mC_a\u001b[0m\u001b[0;34m)\u001b[0m \u001b[0;34m-\u001b[0m \u001b[0minv\u001b[0m\u001b[0;34m(\u001b[0m\u001b[0mC_c\u001b[0m\u001b[0;34m)\u001b[0m\u001b[0;34m)\u001b[0m\u001b[0;34m\u001b[0m\u001b[0m\n\u001b[0m\u001b[1;32m     24\u001b[0m     \u001b[0mC_bc\u001b[0m \u001b[0;34m=\u001b[0m \u001b[0minv\u001b[0m\u001b[0;34m(\u001b[0m\u001b[0minv\u001b[0m\u001b[0;34m(\u001b[0m\u001b[0mC_b\u001b[0m\u001b[0;34m)\u001b[0m \u001b[0;34m-\u001b[0m \u001b[0minv\u001b[0m\u001b[0;34m(\u001b[0m\u001b[0mC_c\u001b[0m\u001b[0;34m)\u001b[0m\u001b[0;34m)\u001b[0m\u001b[0;34m\u001b[0m\u001b[0m\n\u001b[1;32m     25\u001b[0m     \u001b[0mx_c\u001b[0m \u001b[0;34m=\u001b[0m \u001b[0minv\u001b[0m\u001b[0;34m(\u001b[0m\u001b[0minv\u001b[0m\u001b[0;34m(\u001b[0m\u001b[0mC_ac\u001b[0m\u001b[0;34m)\u001b[0m \u001b[0;34m+\u001b[0m \u001b[0minv\u001b[0m\u001b[0;34m(\u001b[0m\u001b[0mC_bc\u001b[0m\u001b[0;34m)\u001b[0m\u001b[0;34m)\u001b[0m \u001b[0;34m@\u001b[0m \u001b[0;34m(\u001b[0m\u001b[0minv\u001b[0m\u001b[0;34m(\u001b[0m\u001b[0mC_ac\u001b[0m\u001b[0;34m)\u001b[0m \u001b[0;34m@\u001b[0m \u001b[0mx_a\u001b[0m \u001b[0;34m+\u001b[0m \u001b[0minv\u001b[0m\u001b[0;34m(\u001b[0m\u001b[0mC_bc\u001b[0m\u001b[0;34m)\u001b[0m \u001b[0;34m@\u001b[0m \u001b[0mx_b\u001b[0m\u001b[0;34m)\u001b[0m\u001b[0;34m\u001b[0m\u001b[0m\n",
      "\u001b[0;32m<ipython-input-24-dc14df79287e>\u001b[0m in \u001b[0;36minv\u001b[0;34m(mat)\u001b[0m\n\u001b[1;32m      3\u001b[0m \u001b[0;34m\u001b[0m\u001b[0m\n\u001b[1;32m      4\u001b[0m \u001b[0;32mdef\u001b[0m \u001b[0minv\u001b[0m\u001b[0;34m(\u001b[0m\u001b[0mmat\u001b[0m\u001b[0;34m)\u001b[0m\u001b[0;34m:\u001b[0m\u001b[0;34m\u001b[0m\u001b[0m\n\u001b[0;32m----> 5\u001b[0;31m     \u001b[0;32mreturn\u001b[0m \u001b[0mnp\u001b[0m\u001b[0;34m.\u001b[0m\u001b[0mlinalg\u001b[0m\u001b[0;34m.\u001b[0m\u001b[0minv\u001b[0m\u001b[0;34m(\u001b[0m\u001b[0mmat\u001b[0m\u001b[0;34m)\u001b[0m\u001b[0;34m\u001b[0m\u001b[0m\n\u001b[0m\u001b[1;32m      6\u001b[0m \u001b[0;34m\u001b[0m\u001b[0m\n\u001b[1;32m      7\u001b[0m \u001b[0;32mdef\u001b[0m \u001b[0mnormalize\u001b[0m\u001b[0;34m(\u001b[0m\u001b[0marr\u001b[0m\u001b[0;34m)\u001b[0m\u001b[0;34m:\u001b[0m\u001b[0;34m\u001b[0m\u001b[0m\n",
      "\u001b[0;32m<__array_function__ internals>\u001b[0m in \u001b[0;36minv\u001b[0;34m(*args, **kwargs)\u001b[0m\n",
      "\u001b[0;32m/usr/local/lib/python3.6/site-packages/numpy/linalg/linalg.py\u001b[0m in \u001b[0;36minv\u001b[0;34m(a)\u001b[0m\n\u001b[1;32m    544\u001b[0m     \u001b[0msignature\u001b[0m \u001b[0;34m=\u001b[0m \u001b[0;34m'D->D'\u001b[0m \u001b[0;32mif\u001b[0m \u001b[0misComplexType\u001b[0m\u001b[0;34m(\u001b[0m\u001b[0mt\u001b[0m\u001b[0;34m)\u001b[0m \u001b[0;32melse\u001b[0m \u001b[0;34m'd->d'\u001b[0m\u001b[0;34m\u001b[0m\u001b[0m\n\u001b[1;32m    545\u001b[0m     \u001b[0mextobj\u001b[0m \u001b[0;34m=\u001b[0m \u001b[0mget_linalg_error_extobj\u001b[0m\u001b[0;34m(\u001b[0m\u001b[0m_raise_linalgerror_singular\u001b[0m\u001b[0;34m)\u001b[0m\u001b[0;34m\u001b[0m\u001b[0m\n\u001b[0;32m--> 546\u001b[0;31m     \u001b[0mainv\u001b[0m \u001b[0;34m=\u001b[0m \u001b[0m_umath_linalg\u001b[0m\u001b[0;34m.\u001b[0m\u001b[0minv\u001b[0m\u001b[0;34m(\u001b[0m\u001b[0ma\u001b[0m\u001b[0;34m,\u001b[0m \u001b[0msignature\u001b[0m\u001b[0;34m=\u001b[0m\u001b[0msignature\u001b[0m\u001b[0;34m,\u001b[0m \u001b[0mextobj\u001b[0m\u001b[0;34m=\u001b[0m\u001b[0mextobj\u001b[0m\u001b[0;34m)\u001b[0m\u001b[0;34m\u001b[0m\u001b[0m\n\u001b[0m\u001b[1;32m    547\u001b[0m     \u001b[0;32mreturn\u001b[0m \u001b[0mwrap\u001b[0m\u001b[0;34m(\u001b[0m\u001b[0mainv\u001b[0m\u001b[0;34m.\u001b[0m\u001b[0mastype\u001b[0m\u001b[0;34m(\u001b[0m\u001b[0mresult_t\u001b[0m\u001b[0;34m,\u001b[0m \u001b[0mcopy\u001b[0m\u001b[0;34m=\u001b[0m\u001b[0;32mFalse\u001b[0m\u001b[0;34m)\u001b[0m\u001b[0;34m)\u001b[0m\u001b[0;34m\u001b[0m\u001b[0m\n\u001b[1;32m    548\u001b[0m \u001b[0;34m\u001b[0m\u001b[0m\n",
      "\u001b[0;32m/usr/local/lib/python3.6/site-packages/numpy/linalg/linalg.py\u001b[0m in \u001b[0;36m_raise_linalgerror_singular\u001b[0;34m(err, flag)\u001b[0m\n\u001b[1;32m     86\u001b[0m \u001b[0;34m\u001b[0m\u001b[0m\n\u001b[1;32m     87\u001b[0m \u001b[0;32mdef\u001b[0m \u001b[0m_raise_linalgerror_singular\u001b[0m\u001b[0;34m(\u001b[0m\u001b[0merr\u001b[0m\u001b[0;34m,\u001b[0m \u001b[0mflag\u001b[0m\u001b[0;34m)\u001b[0m\u001b[0;34m:\u001b[0m\u001b[0;34m\u001b[0m\u001b[0m\n\u001b[0;32m---> 88\u001b[0;31m     \u001b[0;32mraise\u001b[0m \u001b[0mLinAlgError\u001b[0m\u001b[0;34m(\u001b[0m\u001b[0;34m\"Singular matrix\"\u001b[0m\u001b[0;34m)\u001b[0m\u001b[0;34m\u001b[0m\u001b[0m\n\u001b[0m\u001b[1;32m     89\u001b[0m \u001b[0;34m\u001b[0m\u001b[0m\n\u001b[1;32m     90\u001b[0m \u001b[0;32mdef\u001b[0m \u001b[0m_raise_linalgerror_nonposdef\u001b[0m\u001b[0;34m(\u001b[0m\u001b[0merr\u001b[0m\u001b[0;34m,\u001b[0m \u001b[0mflag\u001b[0m\u001b[0;34m)\u001b[0m\u001b[0;34m:\u001b[0m\u001b[0;34m\u001b[0m\u001b[0m\n",
      "\u001b[0;31mLinAlgError\u001b[0m: Singular matrix"
     ]
    }
   ],
   "source": [
    "def test_multiplier(outer, m, C_c):\n",
    "    return C_c - m*outer\n",
    "\n",
    "def inv(mat):\n",
    "    return np.linalg.inv(mat)\n",
    "\n",
    "def normalize(arr):\n",
    "    return arr/np.linalg.norm(arr)\n",
    "\n",
    "\n",
    "x_a, x_b, C_a, C_b = read_in_initial_values(my_space.dim, as_tensors=False)\n",
    "o = normalize(x_a - x_b).reshape((1, 2))\n",
    "outer = np.identity(2)\n",
    "C = mutual_covariance(C_a, C_b)\n",
    "\n",
    "def calculate_distance(x_c, x_ac, C_ac, C_c):\n",
    "    return (x_ac - x_c).T @ inv(C_ac + C_c) @ (x_ac - x_c)\n",
    "\n",
    "bounds = np.linspace(0, 1e-1, 1000)\n",
    "a = []\n",
    "for n in bounds:\n",
    "    C_c = test_multiplier(outer, n, C)\n",
    "    C_ac = inv(inv(C_a) - inv(C_c))\n",
    "    C_bc = inv(inv(C_b) - inv(C_c))\n",
    "    x_c = inv(inv(C_ac) + inv(C_bc)) @ (inv(C_ac) @ x_a + inv(C_bc) @ x_b)\n",
    "    x_ac = C_ac @ (inv(C_a) @ x_a - inv(C_c) @ x_c)\n",
    "    x_bc = C_bc @ (inv(C_b) @ x_b - inv(C_c) @ x_c)\n",
    "    a.append(calculate_distance(x_c, x_ac, C_ac, C_c))\n",
    "\n",
    "plt.cla()\n",
    "plt.clf()\n",
    "plt.plot(bounds, a)\n",
    "plt.show()\n",
    "\n"
   ]
  },
  {
   "cell_type": "code",
   "execution_count": 25,
   "metadata": {},
   "outputs": [],
   "source": [
    "def get_rotation_matrix(a):\n",
    "    theta = np.radians(a)\n",
    "    c, s = np.cos(theta), np.sin(theta)\n",
    "    return np.array([[c, -s], [s, c]])"
   ]
  },
  {
   "cell_type": "code",
   "execution_count": 26,
   "metadata": {},
   "outputs": [],
   "source": [
    "def transform(rotate, angle):\n",
    "    vec_ab = np.array([(x_a - x_b)/np.linalg.norm(x_a - x_b)])    \n",
    "    if rotate:\n",
    "        vec_ab = get_rotation_matrix(angle) @ vec_ab.T\n",
    "    mat_ab = vec_ab @ vec_ab.T\n",
    "    multiplier = np.linspace(0, 10, 100)\n",
    "    C_c = mutual_covariance(C_a, C_b)+ mat_ab\n",
    "    a_diff, b_diff, x_c = qcqp_solver_x_c(x_a, x_b, C_a, C_b, C_c)\n",
    "    return a_diff"
   ]
  },
  {
   "cell_type": "code",
   "execution_count": 27,
   "metadata": {},
   "outputs": [
    {
     "name": "stdout",
     "output_type": "stream",
     "text": [
      "249\n"
     ]
    },
    {
     "data": {
      "image/png": "[encoded data removed]",
      "text/plain": [
       "<Figure size 432x288 with 1 Axes>"
      ]
     },
     "metadata": {
      "needs_background": "light"
     },
     "output_type": "display_data"
    }
   ],
   "source": [
    "original_value = a_diff\n",
    "ax = plt.axes()\n",
    "angles = np.linspace(1, 360, 360)\n",
    "f_s = []\n",
    "x_a, x_b, C_a, C_b = read_in_initial_values(my_space.dim, as_tensors=False)\n",
    "if(my_space.dim == 2):\n",
    "    for a in angles:\n",
    "        f = abs(original_value - transform(True, a))\n",
    "        f_s.append(f)\n",
    "        ax.scatter(a, f)\n",
    "print(f_s.index(min(f_s))+1)"
   ]
  },
  {
   "cell_type": "code",
   "execution_count": 28,
   "metadata": {},
   "outputs": [],
   "source": [
    "def normalize(arr):\n",
    "    return arr/np.linalg.norm(arr)\n",
    "\n",
    "def angle_between_vectors(a1, b1):\n",
    "    a = normalize(a1)\n",
    "    b = normalize(b1)\n",
    "    print(np.dot(a, b))\n",
    "    return np.arccos(np.dot(a, b)/(np.linalg.norm(a) * np.linalg.norm(b)))\n",
    "\n",
    "def perform_fusion_given_z(z):\n",
    "    t = normalize(np.copy(z))\n",
    "    C_c = mutual_covariance(C_a, C_b) + 1e-5*t.T @ t\n",
    "    print(\"DEG\" + str(np.degrees(angle_between_vectors(x_a-x_b, t))))\n",
    "    a, b, x_c = qcqp_solver_x_c(x_a, x_b, C_a, C_b, C_c)\n",
    "    print(\"A:\" + str(a))"
   ]
  },
  {
   "cell_type": "code",
   "execution_count": 29,
   "metadata": {},
   "outputs": [],
   "source": [
    "import torch\n",
    "\n",
    "def find_z(d):\n",
    "    z = torch.from_numpy(d)\n",
    "    z.requires_grad = True\n",
    "    C_c_t = torch.from_numpy(C_c)\n",
    "    C_a_t = torch.from_numpy(C_a)\n",
    "    x_ct = torch.from_numpy(x_c)\n",
    "    x_at = torch.from_numpy(x_a)\n",
    "\n",
    "    C = C_c_t + z.T @ z\n",
    "    C_act = torch.inverse(torch.inverse(C_a_t) - torch.inverse(C))\n",
    "    x_act = C_act @ (torch.inverse(C_a_t)@x_at - torch.inverse(C_c_t)@x_ct)\n",
    "\n",
    "    Z = (x_act-x_ct).T @ torch.inverse(C_act + C) @ (x_act - x_ct)\n",
    "    out = Z.mean()\n",
    "    out.backward()\n",
    "    return z.grad\n"
   ]
  },
  {
   "cell_type": "code",
   "execution_count": 30,
   "metadata": {},
   "outputs": [
    {
     "name": "stdout",
     "output_type": "stream",
     "text": [
      "-1.0\n",
      "DEG180.0\n",
      "A:1646257.7224937044\n",
      "-1.0000000000000002\n",
      "DEGnan\n",
      "A:1646257.7224937044\n",
      "-1.0\n",
      "DEG180.0\n",
      "A:1646257.7224937044\n",
      "-1.0\n",
      "DEG180.0\n",
      "A:1646257.7224937044\n",
      "-1.0\n",
      "DEG180.0\n",
      "A:1646257.7224937044\n",
      "-1.0\n",
      "DEG180.0\n",
      "A:1646257.7224937044\n",
      "-1.0\n",
      "DEG180.0\n",
      "A:1646257.7224937044\n",
      "-1.0\n",
      "DEG180.0\n",
      "A:1646257.7224937044\n",
      "-1.0\n",
      "DEG180.0\n",
      "A:1646257.7224937044\n",
      "-1.0\n",
      "DEG180.0\n",
      "A:1646257.7224937044\n",
      "-1.0\n",
      "DEG180.0\n",
      "A:1646257.7224937044\n",
      "-1.0\n",
      "DEG180.0\n",
      "A:1646257.7224937044\n",
      "-1.0\n",
      "DEG180.0\n",
      "A:1646257.7224937044\n",
      "-1.0\n",
      "DEG180.0\n",
      "A:1646257.7224937044\n",
      "-1.0\n",
      "DEG180.0\n",
      "A:1646257.7224937044\n",
      "-1.0\n",
      "DEG180.0\n",
      "A:1646257.7224937044\n",
      "-1.0\n",
      "DEG180.0\n",
      "A:1646257.7224937044\n",
      "-1.0\n",
      "DEG180.0\n",
      "A:1646257.7224937044\n",
      "-1.0\n",
      "DEG180.0\n",
      "A:1646257.7224937044\n",
      "-1.0\n",
      "DEG180.0\n",
      "A:1646257.7224937044\n"
     ]
    }
   ],
   "source": [
    "z = normalize(x_a - x_b)\n",
    "for i in range(20):\n",
    "    a = find_z(z)\n",
    "    z = z - a.numpy()\n",
    "    perform_fusion_given_z(z)"
   ]
  },
  {
   "cell_type": "code",
   "execution_count": 34,
   "metadata": {},
   "outputs": [
    {
     "data": {
      "image/png": "[encoded data removed]",
      "text/plain": [
       "<Figure size 432x288 with 1 Axes>"
      ]
     },
     "metadata": {
      "needs_background": "light"
     },
     "output_type": "display_data"
    },
    {
     "name": "stdout",
     "output_type": "stream",
     "text": [
      "=========================\n",
      "[[-0.23762806  0.97135622]]\n",
      "12.581745844440668\n"
     ]
    }
   ],
   "source": [
    "import torch\n",
    "import torchgeometry as tgm\n",
    "\n",
    "def tinv(mat):\n",
    "    return torch.inverse(mat)\n",
    "\n",
    "def normalize(arr, numpy_as = False):\n",
    "    if(numpy_as):\n",
    "        return arr/np.linalg.norm(arr)    \n",
    "    return arr/torch.norm(arr)\n",
    "\n",
    "def get_rotation_matrix(theta):\n",
    "    dimensions = theta.shape[0] + 1\n",
    "    t = torch.cat((theta, torch.zeros((4 - dimensions, 1))))\n",
    "    return tgm.angle_axis_to_rotation_matrix(t.T)[:dimensions, :dimensions, :dimensions][0]\n",
    "    \n",
    "all_zs = []    \n",
    "def update(z, og_Cc, C_a, C_b, x_a, x_b, zs):\n",
    "    C_c = og_Cc + z.T @ z\n",
    "    C_ac = torch.inverse(torch.inverse(C_a) - torch.inverse(C_c))\n",
    "    C_bc = torch.inverse(torch.inverse(C_b) - torch.inverse(C_c))\n",
    "    x_c = tinv(tinv(C_ac) + tinv(C_bc)) @ (tinv(C_ac) @ x_a + tinv(C_bc) @ x_b)\n",
    "    x_ac = C_ac @ (torch.inverse(C_a) @ x_a - torch.inverse(C_c) @ x_c)\n",
    "    x_bc = C_bc @ (torch.inverse(C_b) @ x_b - torch.inverse(C_c) @ x_c)\n",
    "    Z = (x_ac - x_c).T @ tinv(C_ac + C_c) @ (x_ac - x_c)\n",
    "    z.retain_grad()\n",
    "    Z.backward(retain_graph=True)\n",
    "    zs.append(Z.data)\n",
    "    return z.grad\n",
    "\n",
    "x_a, x_b, C_a, C_b = read_in_initial_values(my_space.dim, as_tensors=True)\n",
    "C_c = torch.tensor(mutual_covariance(C_a, C_b))\n",
    "z = normalize(x_a - x_b).reshape((1, 2))\n",
    "z.requires_grad = True\n",
    "continue_o = True\n",
    "i = 0\n",
    "while(True):\n",
    "    g = 1e-2*update(z, C_c, C_a, C_b, x_a, x_b, all_zs)\n",
    "    if len(all_zs) > 1 and all_zs[-2] <= all_zs[-1]:\n",
    "        break\n",
    "    z = normalize(z - g)\n",
    "\n",
    "j = [i for i in range(len(all_zs))]\n",
    "\n",
    "plt.plot(j, all_zs)\n",
    "plt.xlabel(\"training step\")\n",
    "plt.ylabel(\"Mahalanobis Distance\")\n",
    "plt.show()\n",
    "    \n",
    "print(\"=========================\")\n",
    "a = normalize(x_a.numpy() - x_b.numpy(), numpy_as = True)\n",
    "b = z.detach().numpy()[0]\n",
    "print(z.detach().numpy())\n",
    "\n",
    "print(np.degrees(np.arccos(np.dot(a, b))))\n",
    "\n"
   ]
  },
  {
   "cell_type": "code",
   "execution_count": null,
   "metadata": {},
   "outputs": [],
   "source": [
    "b = z.detach().numpy()\n",
    "print(b.shape)\n",
    "outer = b.T @ b\n"
   ]
  },
  {
   "cell_type": "code",
   "execution_count": null,
   "metadata": {},
   "outputs": [],
   "source": [
    "def test_multiplier(outer, m, C_c):\n",
    "    return C_c - m*outer\n",
    "\n",
    "def inv(mat):\n",
    "    return np.linalg.inv(mat)\n",
    "\n",
    "def normalize(arr):\n",
    "    return arr/np.linalg.norm(arr)\n",
    "\n",
    "\n",
    "x_a, x_b, C_a, C_b = read_in_initial_values(my_space.dim, as_tensors=False)\n",
    "o = normalize(x_a - x_b).reshape((1, 2))\n",
    "outer = np.identity(2)\n",
    "C = mutual_covariance(C_a, C_b)\n",
    "\n",
    "def calculate_distance(x_c, x_ac, C_ac, C_c):\n",
    "    return (x_ac - x_c).T @ inv(C_ac + C_c) @ (x_ac - x_c)\n",
    "\n",
    "bounds = np.linspace(0, 1e-1, 1000)\n",
    "a = []\n",
    "for n in bounds:\n",
    "    C_c = test_multiplier(outer, n, C)\n",
    "    C_ac = inv(inv(C_a) - inv(C_c))\n",
    "    C_bc = inv(inv(C_b) - inv(C_c))\n",
    "    x_c = inv(inv(C_ac) + inv(C_bc)) @ (inv(C_ac) @ x_a + inv(C_bc) @ x_b)\n",
    "    x_ac = C_ac @ (inv(C_a) @ x_a - inv(C_c) @ x_c)\n",
    "    x_bc = C_bc @ (inv(C_b) @ x_b - inv(C_c) @ x_c)\n",
    "    a.append(calculate_distance(x_c, x_ac, C_ac, C_c))\n",
    "\n",
    "plt.cla()\n",
    "plt.clf()\n",
    "plt.plot(bounds, a)\n",
    "plt.show()\n",
    "\n"
   ]
  },
  {
   "cell_type": "code",
   "execution_count": null,
   "metadata": {},
   "outputs": [],
   "source": []
  }
 ],
 "metadata": {
  "kernelspec": {
   "display_name": "Python 3",
   "language": "python",
   "name": "python3"
  },
  "language_info": {
   "codemirror_mode": {
    "name": "ipython",
    "version": 3
   },
   "file_extension": ".py",
   "mimetype": "text/x-python",
   "name": "python",
   "nbconvert_exporter": "python",
   "pygments_lexer": "ipython3",
   "version": "3.6.3"
  }
 },
 "nbformat": 4,
 "nbformat_minor": 2
}
