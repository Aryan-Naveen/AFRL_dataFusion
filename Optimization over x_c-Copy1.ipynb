{
 "cells": [
  {
   "cell_type": "code",
   "execution_count": 1,
   "metadata": {},
   "outputs": [],
   "source": [
    "import warnings\n",
    "warnings.filterwarnings(\"ignore\")\n",
    "import numpy as np\n",
    "from scipy.optimize import minimize\n",
    "from scipy.stats import chi2\n",
    "from scipy.linalg import sqrtm\n",
    "from numpy.linalg import det\n",
    "import numpy.linalg as LA\n",
    "import matplotlib.pyplot as plt\n",
    "import math\n",
    "from tqdm import tqdm\n",
    "import numpy as np\n",
    "from scipy.stats import invwishart as iw        \n",
    "import matplotlib.pyplot as plt"
   ]
  },
  {
   "cell_type": "code",
   "execution_count": 2,
   "metadata": {},
   "outputs": [],
   "source": [
    "def inv(A):\n",
    "    return LA.inv(A)\n",
    "\n",
    "def relu(v):\n",
    "    threshold = 1E-5\n",
    "    if v < 100 and v > threshold:\n",
    "        return np.log1p(1 + np.exp(v))* threshold /np.log1p(1+np.exp(threshold))\n",
    "    else:\n",
    "        return v\n",
    "\n",
    "\n",
    "\n",
    "def pinv(A):\n",
    "    RELU = np.vectorize(relu)\n",
    "    tmp_eig, tmp_egv = LA.eig(A)\n",
    "    M_inv = tmp_egv @ np.diag(1/RELU(tmp_eig)) @ tmp_egv.T\n",
    "    M = tmp_egv @ np.diag(RELU(tmp_eig)) @ tmp_egv.T\n",
    "    return M\n",
    "\n",
    "\n",
    "def generate_covariance(true_mu, dims, df):\n",
    "    S = (np.tril(iw.rvs(df, 1, size=dims**2).reshape(dims, dims)))*df\n",
    "    cov = np.dot(S, S.T)\n",
    "    while(abs(np.linalg.det(cov)) < 1.5):\n",
    "        cov = cov + 0.5*np.diag(np.diag(cov))\n",
    "    mu = np.random.multivariate_normal(true_mu, cov, 1)[0]\n",
    "\n",
    "    return mu, cov\n",
    "\n",
    "def mutual_covariance(cov_a, cov_b):\n",
    "    D_a, S_a = np.linalg.eigh(cov_a)\n",
    "    D_a_sqrt = sqrtm(np.diag(D_a))\n",
    "    D_a_sqrt_inv = inv(D_a_sqrt)\n",
    "    M = np.dot(np.dot(np.dot(np.dot(D_a_sqrt_inv, inv(S_a)), cov_b), S_a), D_a_sqrt_inv)    # eqn. 10 in Sijs et al.\n",
    "    D_b, S_b = np.linalg.eigh(M)\n",
    "    D_gamma = np.diag(np.clip(D_b, a_min=1.0, a_max=None))   # eqn. 11b in Sijs et al.\n",
    "    return np.dot(np.dot(np.dot(np.dot(np.dot(np.dot(S_a, D_a_sqrt), S_b), D_gamma), inv(S_b)), D_a_sqrt), inv(S_a))  # eqn. 11a in Sijs et al\n",
    "\n",
    "def get(dims, df):\n",
    "    true_mu = np.zeros((dims, ))\n",
    "\n",
    "    x_ac, C_ac = generate_covariance(true_mu, dims, df)\n",
    "    x_c, C_c = generate_covariance(true_mu, dims, df)\n",
    "    x_bc, C_bc = generate_covariance(true_mu, dims, df)\n",
    "\n",
    "    C_a = LA.inv(LA.inv(C_ac) + LA.inv(C_c))\n",
    "    C_b = LA.inv(LA.inv(C_bc) + LA.inv(C_c))\n",
    "\n",
    "    x_a = C_a @ (LA.inv(C_ac) @ x_ac + LA.inv(C_c) @ x_c)\n",
    "    x_b = C_b @ (LA.inv(C_bc) @ x_bc + LA.inv(C_c) @ x_c)\n",
    "\n",
    "    C_fus = LA.inv(LA.inv(C_a) + LA.inv(C_b) - LA.inv(C_c))\n",
    "\n",
    "    x_fus = C_fus @ (LA.inv(C_ac) @ x_ac + LA.inv(C_bc) @ x_bc + LA.inv(C_c) @ x_c)\n",
    "\n",
    "    return x_a.reshape(1, dims), x_b.reshape(1, dims), C_a, C_b, C_fus, x_fus\n",
    "\n",
    "def get_critical_value(dimensions, alpha):\n",
    "    return chi2.ppf((1 - alpha), df=dimensions)\n",
    "\n",
    "eta = get_critical_value(2, 0.05)"
   ]
  },
  {
   "cell_type": "code",
   "execution_count": 3,
   "metadata": {},
   "outputs": [],
   "source": [
    "df = 100\n",
    "x_a, x_b, C_a, C_b, C_fus, t_x_fus = get(2, df)\n",
    "x_a = x_a.reshape(1, 2)\n",
    "x_b = x_b.reshape(1, 2)"
   ]
  },
  {
   "cell_type": "code",
   "execution_count": 4,
   "metadata": {},
   "outputs": [],
   "source": [
    "def calculate_xc(G):\n",
    "    G = G.reshape(2, 2).T\n",
    "    C_c_inv = G @ G.T\n",
    "    \n",
    "    C_ac = LA.inv(LA.inv(C_a) - C_c_inv)\n",
    "    C_bc = LA.inv(LA.inv(C_b) - C_c_inv)\n",
    "    \n",
    "    return (LA.inv(LA.inv(C_a)+LA.inv(C_b)-2*C_c_inv) @ ((C_ac@x_a.T+C_bc@x_b.T).T).T).T\n",
    "\n",
    "    \n",
    "def objective(S):\n",
    "    return -(S[0]*S[3])\n",
    "\n",
    "def constraint1(S):\n",
    "    S = S[:4].reshape(2, 2).T\n",
    "    A = inv(C_a) - S@S.T\n",
    "    return np.linalg.eig(A)[0][0]\n",
    "\n",
    "def constraint2(S):\n",
    "    S = S[:4].reshape(2, 2).T\n",
    "    A = inv(C_a) - S@S.T\n",
    "    return np.linalg.eig(A)[0][1]\n",
    "\n",
    "def constraint3(S):\n",
    "    S = S[:4].reshape(2, 2).T\n",
    "    A = inv(C_b) - S@S.T\n",
    "    return np.linalg.eig(A)[0][0]\n",
    "\n",
    "def constraint4(S):\n",
    "    S = S[:4].reshape(2, 2).T\n",
    "    A = inv(C_b) - S@S.T\n",
    "    return np.linalg.eig(A)[0][1]\n",
    "\n",
    "def constraint5(S):\n",
    "    G = S[:4]\n",
    "    x_cE = calculate_xc(G).reshape(2, )\n",
    "    x_cS = S[4:]\n",
    "    return round((np.square(x_cE - x_cS)).mean(axis=None), 8)\n",
    "\n",
    "def constraint6(S):\n",
    "    return round(S[2], 8)\n",
    "\n",
    "\n",
    "def prob_constraint(S):\n",
    "    G = S[:4].reshape(2, 2).T\n",
    "    C_c_inv = G @ G.T\n",
    "\n",
    "    xc = S[4:].reshape(x_a.shape)\n",
    "    \n",
    "    C_ac = LA.inv(LA.inv(C_a) - C_c_inv)\n",
    "    C_bc = LA.inv(LA.inv(C_b) - C_c_inv)\n",
    "    \n",
    "    x_ac = (C_ac @ (inv(C_a) @ x_a.T - C_c_inv @ xc.T)).T\n",
    "    x_bc = (C_bc @ (inv(C_b) @ x_b.T - C_c_inv @ xc.T)).T\n",
    "    \n",
    "    f = ((x_ac - x_bc) @ inv(C_ac+C_bc) @ (x_ac - x_bc).T)[0][0]\n",
    "    return round(eta-f, 8)\n",
    "\n",
    "def debug(S):\n",
    "    print ('objective is',objective(S))\n",
    "    print ('constraint1 is ',constraint1(S))\n",
    "    print ('constraint2 is ',constraint2(S))\n",
    "    print ('constraint3 is ',constraint3(S))\n",
    "    print ('constraint4 is ',constraint4(S))\n",
    "    print ('constraint5 is ',constraint5(S))\n",
    "    print ('constraint6 is ',constraint6(S))\n",
    "    print ('prob_constraint is ',prob_constraint(S))\n",
    "\n",
    "    \n",
    "\n",
    "G_0 = 0.4*(np.linalg.cholesky(LA.inv(mutual_covariance(C_a, C_b))).T).reshape(4,)\n",
    "xc_0 = calculate_xc(G_0).reshape(2,)\n",
    "S_0 = np.concatenate((G_0, xc_0))"
   ]
  },
  {
   "cell_type": "code",
   "execution_count": 10,
   "metadata": {},
   "outputs": [],
   "source": [
    "con1 = {'type': 'ineq', 'fun': constraint1}\n",
    "con2 = {'type': 'ineq', 'fun': constraint2}\n",
    "con3 = {'type': 'ineq', 'fun': constraint3}\n",
    "con4 = {'type': 'ineq', 'fun': constraint4}\n",
    "con5 = {'type': 'eq', 'fun': constraint5}\n",
    "con6 = {'type': 'eq', 'fun': constraint6}\n",
    "con7 = {'type': 'eq', 'fun': prob_constraint}\n",
    "cons = [con1, con2, con3, con4, con5, con6, con7]\n"
   ]
  },
  {
   "cell_type": "code",
   "execution_count": 11,
   "metadata": {},
   "outputs": [
    {
     "name": "stdout",
     "output_type": "stream",
     "text": [
      "[ 1.06121338 -0.72852793 -0.06904597  0.0997396   1.47313081  0.84358857]\n",
      "True\n",
      "objective is -0.10584499244897314\n",
      "constraint1 is  0.9473476918084409\n",
      "constraint2 is  0.6932907682805042\n",
      "constraint3 is  1.0262630008122708\n",
      "constraint4 is  0.4211591889201412\n",
      "constraint5 is  2.91604142\n",
      "constraint6 is  -0.06904597\n",
      "prob_constraint is  3.96825894\n"
     ]
    }
   ],
   "source": [
    "sol = minimize(objective, S_0, method='trust-constr', constraints=cons)\n",
    "print(sol.x)\n",
    "print(sol.success)\n",
    "debug(sol.x)"
   ]
  },
  {
   "cell_type": "code",
   "execution_count": 12,
   "metadata": {},
   "outputs": [],
   "source": [
    "G = sol.x[:4].reshape(2, 2).T\n",
    "C_c_05 = inv(G.T) @ inv(G)\n",
    "fus_PC_05 = inv(inv(C_a) + inv(C_b) - inv(C_c_05))\n",
    "\n",
    "C_c_EI = mutual_covariance(C_a, C_b) + 1e-10*np.identity(2)\n",
    "fus_EI = inv(inv(C_a) + inv(C_b) - inv(C_c_EI))"
   ]
  },
  {
   "cell_type": "code",
   "execution_count": 13,
   "metadata": {},
   "outputs": [
    {
     "name": "stdout",
     "output_type": "stream",
     "text": [
      "0.7621748241243443\n",
      "0.7342348170492871\n"
     ]
    }
   ],
   "source": [
    "def calculate_MSE(true_x_fus, C_a, C_b, C_c, x_a, x_b, C_fus):\n",
    "    C_ac_inv = inv(C_a) - inv(C_c)\n",
    "    C_ac = inv(C_ac_inv)\n",
    "    C_bc_inv = inv(C_b) - inv(C_c)\n",
    "    C_bc = inv(C_bc_inv)\n",
    "    C_c_inv = inv(C_c)\n",
    "    \n",
    "    \n",
    "    C_abc_inv_inv = inv(C_ac_inv + C_bc_inv)\n",
    "    \n",
    "    \n",
    "    x_c = (C_abc_inv_inv @ (C_ac_inv @ x_a.T + C_bc_inv @ x_b.T)).T\n",
    "    x_ac = (C_ac @ (inv(C_a) @ x_a.T - C_c_inv @ x_c.T)).T\n",
    "    x_bc =(C_bc @ (inv(C_b) @ x_b.T - C_c_inv @ x_c.T)).T\n",
    "    \n",
    "    x_fus = C_fus @ (C_ac_inv @ x_ac.T + C_bc_inv @ x_bc.T + C_c_inv @ x_c.T)\n",
    "    \n",
    "    mse = (np.square(true_x_fus - x_fus)).mean()\n",
    "    return mse\n",
    "    \n",
    "\n",
    "ei = calculate_MSE(t_x_fus, C_a, C_b, C_c_EI, x_a, x_b, fus_EI)\n",
    "print(ei)\n",
    "pc_05 = calculate_MSE(t_x_fus, C_a, C_b, C_c_05, x_a, x_b, fus_PC_05)\n",
    "print(pc_05)"
   ]
  },
  {
   "cell_type": "code",
   "execution_count": 14,
   "metadata": {},
   "outputs": [],
   "source": [
    "eta = get_critical_value(2, 0.01)\n",
    "con1 = {'type': 'ineq', 'fun': constraint1}\n",
    "con2 = {'type': 'ineq', 'fun': constraint2}\n",
    "con3 = {'type': 'ineq', 'fun': constraint3}\n",
    "con4 = {'type': 'ineq', 'fun': constraint4}\n",
    "con5 = {'type': 'eq', 'fun': constraint5}\n",
    "con6 = {'type': 'eq', 'fun': constraint6}\n",
    "con7 = {'type': 'eq', 'fun': prob_constraint}\n",
    "cons = [con1, con2, con3, con4, con5, con6, con7]\n",
    "\n",
    "sol = minimize(objective, S_0, method='trust-constr', constraints=cons)"
   ]
  },
  {
   "cell_type": "code",
   "execution_count": 15,
   "metadata": {},
   "outputs": [
    {
     "name": "stdout",
     "output_type": "stream",
     "text": [
      "[ 0.84358443 -0.41707201 -0.15426854  0.41395756  0.49305541  1.12041831]\n",
      "True\n",
      "objective is -0.34920815101109254\n",
      "constraint1 is  1.6203819914343571\n",
      "constraint2 is  0.6111551753367994\n",
      "constraint3 is  1.5458460008784451\n",
      "constraint4 is  0.4924748955361781\n",
      "constraint5 is  0.04309895\n",
      "constraint6 is  -0.15426854\n",
      "prob_constraint is  9.01048715\n"
     ]
    }
   ],
   "source": [
    "print(sol.x)\n",
    "print(sol.success)\n",
    "debug(sol.x)"
   ]
  },
  {
   "cell_type": "code",
   "execution_count": 16,
   "metadata": {},
   "outputs": [
    {
     "name": "stdout",
     "output_type": "stream",
     "text": [
      "0.4767371120572591\n",
      "0.19714142617699257\n",
      "0.22281753574572027\n"
     ]
    }
   ],
   "source": [
    "G = sol.x[:4].reshape(2, 2).T\n",
    "C_c_01 = inv(G.T) @ inv(G)\n",
    "fus_PC_01 = inv(inv(C_a) + inv(C_b) - inv(C_c_01))\n",
    "\n",
    "print(LA.det(fus_EI))\n",
    "print(LA.det(fus_PC_01))\n",
    "print(LA.det(fus_PC_05))"
   ]
  },
  {
   "cell_type": "code",
   "execution_count": null,
   "metadata": {},
   "outputs": [],
   "source": []
  }
 ],
 "metadata": {
  "kernelspec": {
   "display_name": "Python 3",
   "language": "python",
   "name": "python3"
  },
  "language_info": {
   "codemirror_mode": {
    "name": "ipython",
    "version": 3
   },
   "file_extension": ".py",
   "mimetype": "text/x-python",
   "name": "python",
   "nbconvert_exporter": "python",
   "pygments_lexer": "ipython3",
   "version": "3.6.3"
  }
 },
 "nbformat": 4,
 "nbformat_minor": 2
}
